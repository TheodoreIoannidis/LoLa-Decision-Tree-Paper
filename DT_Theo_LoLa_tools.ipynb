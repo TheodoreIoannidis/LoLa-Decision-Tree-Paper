{
  "nbformat": 4,
  "nbformat_minor": 0,
  "metadata": {
    "colab": {
      "provenance": []
    },
    "kernelspec": {
      "name": "python3",
      "display_name": "Python 3"
    },
    "language_info": {
      "name": "python"
    },
    "widgets": {
      "application/vnd.jupyter.widget-state+json": {
        "cf20afb41c3d472b8e55f8a8bc755543": {
          "model_module": "@jupyter-widgets/controls",
          "model_name": "HBoxModel",
          "model_module_version": "1.5.0",
          "state": {
            "_dom_classes": [],
            "_model_module": "@jupyter-widgets/controls",
            "_model_module_version": "1.5.0",
            "_model_name": "HBoxModel",
            "_view_count": null,
            "_view_module": "@jupyter-widgets/controls",
            "_view_module_version": "1.5.0",
            "_view_name": "HBoxView",
            "box_style": "",
            "children": [
              "IPY_MODEL_ee815e4a488a4ea1b89e13036d69b95b",
              "IPY_MODEL_946b59395ddb419dbed1919c217d3a53",
              "IPY_MODEL_13a9b329248b44ecb8721f2a9353366a"
            ],
            "layout": "IPY_MODEL_751e52ecbeb74d7aa45741cdb4874fbc"
          }
        },
        "ee815e4a488a4ea1b89e13036d69b95b": {
          "model_module": "@jupyter-widgets/controls",
          "model_name": "HTMLModel",
          "model_module_version": "1.5.0",
          "state": {
            "_dom_classes": [],
            "_model_module": "@jupyter-widgets/controls",
            "_model_module_version": "1.5.0",
            "_model_name": "HTMLModel",
            "_view_count": null,
            "_view_module": "@jupyter-widgets/controls",
            "_view_module_version": "1.5.0",
            "_view_name": "HTMLView",
            "description": "",
            "description_tooltip": null,
            "layout": "IPY_MODEL_eaba9540da9b433080408de73f0fe340",
            "placeholder": "​",
            "style": "IPY_MODEL_e44936f8b4d5480298483d0bf9976f85",
            "value": "Downloading https://huggingface.co/stanfordnlp/CoreNLP/resolve/main/stanford-corenlp-latest.zip: 100%"
          }
        },
        "946b59395ddb419dbed1919c217d3a53": {
          "model_module": "@jupyter-widgets/controls",
          "model_name": "FloatProgressModel",
          "model_module_version": "1.5.0",
          "state": {
            "_dom_classes": [],
            "_model_module": "@jupyter-widgets/controls",
            "_model_module_version": "1.5.0",
            "_model_name": "FloatProgressModel",
            "_view_count": null,
            "_view_module": "@jupyter-widgets/controls",
            "_view_module_version": "1.5.0",
            "_view_name": "ProgressView",
            "bar_style": "success",
            "description": "",
            "description_tooltip": null,
            "layout": "IPY_MODEL_c5f26cd5b396415e8359fb2e85c4512c",
            "max": 507967463,
            "min": 0,
            "orientation": "horizontal",
            "style": "IPY_MODEL_4c032b77bdbe4c58b16e26c02c50f766",
            "value": 507967463
          }
        },
        "13a9b329248b44ecb8721f2a9353366a": {
          "model_module": "@jupyter-widgets/controls",
          "model_name": "HTMLModel",
          "model_module_version": "1.5.0",
          "state": {
            "_dom_classes": [],
            "_model_module": "@jupyter-widgets/controls",
            "_model_module_version": "1.5.0",
            "_model_name": "HTMLModel",
            "_view_count": null,
            "_view_module": "@jupyter-widgets/controls",
            "_view_module_version": "1.5.0",
            "_view_name": "HTMLView",
            "description": "",
            "description_tooltip": null,
            "layout": "IPY_MODEL_9032b4077ab84d0c966913fba92ff6a0",
            "placeholder": "​",
            "style": "IPY_MODEL_7caf99b3702d47b0b3278b194ba6a807",
            "value": " 508M/508M [00:03&lt;00:00, 147MB/s]"
          }
        },
        "751e52ecbeb74d7aa45741cdb4874fbc": {
          "model_module": "@jupyter-widgets/base",
          "model_name": "LayoutModel",
          "model_module_version": "1.2.0",
          "state": {
            "_model_module": "@jupyter-widgets/base",
            "_model_module_version": "1.2.0",
            "_model_name": "LayoutModel",
            "_view_count": null,
            "_view_module": "@jupyter-widgets/base",
            "_view_module_version": "1.2.0",
            "_view_name": "LayoutView",
            "align_content": null,
            "align_items": null,
            "align_self": null,
            "border": null,
            "bottom": null,
            "display": null,
            "flex": null,
            "flex_flow": null,
            "grid_area": null,
            "grid_auto_columns": null,
            "grid_auto_flow": null,
            "grid_auto_rows": null,
            "grid_column": null,
            "grid_gap": null,
            "grid_row": null,
            "grid_template_areas": null,
            "grid_template_columns": null,
            "grid_template_rows": null,
            "height": null,
            "justify_content": null,
            "justify_items": null,
            "left": null,
            "margin": null,
            "max_height": null,
            "max_width": null,
            "min_height": null,
            "min_width": null,
            "object_fit": null,
            "object_position": null,
            "order": null,
            "overflow": null,
            "overflow_x": null,
            "overflow_y": null,
            "padding": null,
            "right": null,
            "top": null,
            "visibility": null,
            "width": null
          }
        },
        "eaba9540da9b433080408de73f0fe340": {
          "model_module": "@jupyter-widgets/base",
          "model_name": "LayoutModel",
          "model_module_version": "1.2.0",
          "state": {
            "_model_module": "@jupyter-widgets/base",
            "_model_module_version": "1.2.0",
            "_model_name": "LayoutModel",
            "_view_count": null,
            "_view_module": "@jupyter-widgets/base",
            "_view_module_version": "1.2.0",
            "_view_name": "LayoutView",
            "align_content": null,
            "align_items": null,
            "align_self": null,
            "border": null,
            "bottom": null,
            "display": null,
            "flex": null,
            "flex_flow": null,
            "grid_area": null,
            "grid_auto_columns": null,
            "grid_auto_flow": null,
            "grid_auto_rows": null,
            "grid_column": null,
            "grid_gap": null,
            "grid_row": null,
            "grid_template_areas": null,
            "grid_template_columns": null,
            "grid_template_rows": null,
            "height": null,
            "justify_content": null,
            "justify_items": null,
            "left": null,
            "margin": null,
            "max_height": null,
            "max_width": null,
            "min_height": null,
            "min_width": null,
            "object_fit": null,
            "object_position": null,
            "order": null,
            "overflow": null,
            "overflow_x": null,
            "overflow_y": null,
            "padding": null,
            "right": null,
            "top": null,
            "visibility": null,
            "width": null
          }
        },
        "e44936f8b4d5480298483d0bf9976f85": {
          "model_module": "@jupyter-widgets/controls",
          "model_name": "DescriptionStyleModel",
          "model_module_version": "1.5.0",
          "state": {
            "_model_module": "@jupyter-widgets/controls",
            "_model_module_version": "1.5.0",
            "_model_name": "DescriptionStyleModel",
            "_view_count": null,
            "_view_module": "@jupyter-widgets/base",
            "_view_module_version": "1.2.0",
            "_view_name": "StyleView",
            "description_width": ""
          }
        },
        "c5f26cd5b396415e8359fb2e85c4512c": {
          "model_module": "@jupyter-widgets/base",
          "model_name": "LayoutModel",
          "model_module_version": "1.2.0",
          "state": {
            "_model_module": "@jupyter-widgets/base",
            "_model_module_version": "1.2.0",
            "_model_name": "LayoutModel",
            "_view_count": null,
            "_view_module": "@jupyter-widgets/base",
            "_view_module_version": "1.2.0",
            "_view_name": "LayoutView",
            "align_content": null,
            "align_items": null,
            "align_self": null,
            "border": null,
            "bottom": null,
            "display": null,
            "flex": null,
            "flex_flow": null,
            "grid_area": null,
            "grid_auto_columns": null,
            "grid_auto_flow": null,
            "grid_auto_rows": null,
            "grid_column": null,
            "grid_gap": null,
            "grid_row": null,
            "grid_template_areas": null,
            "grid_template_columns": null,
            "grid_template_rows": null,
            "height": null,
            "justify_content": null,
            "justify_items": null,
            "left": null,
            "margin": null,
            "max_height": null,
            "max_width": null,
            "min_height": null,
            "min_width": null,
            "object_fit": null,
            "object_position": null,
            "order": null,
            "overflow": null,
            "overflow_x": null,
            "overflow_y": null,
            "padding": null,
            "right": null,
            "top": null,
            "visibility": null,
            "width": null
          }
        },
        "4c032b77bdbe4c58b16e26c02c50f766": {
          "model_module": "@jupyter-widgets/controls",
          "model_name": "ProgressStyleModel",
          "model_module_version": "1.5.0",
          "state": {
            "_model_module": "@jupyter-widgets/controls",
            "_model_module_version": "1.5.0",
            "_model_name": "ProgressStyleModel",
            "_view_count": null,
            "_view_module": "@jupyter-widgets/base",
            "_view_module_version": "1.2.0",
            "_view_name": "StyleView",
            "bar_color": null,
            "description_width": ""
          }
        },
        "9032b4077ab84d0c966913fba92ff6a0": {
          "model_module": "@jupyter-widgets/base",
          "model_name": "LayoutModel",
          "model_module_version": "1.2.0",
          "state": {
            "_model_module": "@jupyter-widgets/base",
            "_model_module_version": "1.2.0",
            "_model_name": "LayoutModel",
            "_view_count": null,
            "_view_module": "@jupyter-widgets/base",
            "_view_module_version": "1.2.0",
            "_view_name": "LayoutView",
            "align_content": null,
            "align_items": null,
            "align_self": null,
            "border": null,
            "bottom": null,
            "display": null,
            "flex": null,
            "flex_flow": null,
            "grid_area": null,
            "grid_auto_columns": null,
            "grid_auto_flow": null,
            "grid_auto_rows": null,
            "grid_column": null,
            "grid_gap": null,
            "grid_row": null,
            "grid_template_areas": null,
            "grid_template_columns": null,
            "grid_template_rows": null,
            "height": null,
            "justify_content": null,
            "justify_items": null,
            "left": null,
            "margin": null,
            "max_height": null,
            "max_width": null,
            "min_height": null,
            "min_width": null,
            "object_fit": null,
            "object_position": null,
            "order": null,
            "overflow": null,
            "overflow_x": null,
            "overflow_y": null,
            "padding": null,
            "right": null,
            "top": null,
            "visibility": null,
            "width": null
          }
        },
        "7caf99b3702d47b0b3278b194ba6a807": {
          "model_module": "@jupyter-widgets/controls",
          "model_name": "DescriptionStyleModel",
          "model_module_version": "1.5.0",
          "state": {
            "_model_module": "@jupyter-widgets/controls",
            "_model_module_version": "1.5.0",
            "_model_name": "DescriptionStyleModel",
            "_view_count": null,
            "_view_module": "@jupyter-widgets/base",
            "_view_module_version": "1.2.0",
            "_view_name": "StyleView",
            "description_width": ""
          }
        }
      }
    }
  },
  "cells": [
    {
      "cell_type": "markdown",
      "source": [
        "# Tools for the Logic & Language course\n",
        "\n",
        "by Lasha.Abzianidze@gmail.com"
      ],
      "metadata": {
        "id": "Lh_nsRQ655F7"
      }
    },
    {
      "cell_type": "markdown",
      "source": [
        "# SpaCy processing"
      ],
      "metadata": {
        "id": "IYNJMnO72b3i"
      }
    },
    {
      "cell_type": "code",
      "source": [
        "import spacy\n",
        "print(f\"spaCy version={spacy.__version__}\")"
      ],
      "metadata": {
        "id": "Jrd_Rb0n2dD3",
        "colab": {
          "base_uri": "https://localhost:8080/"
        },
        "outputId": "13cd6487-ee43-4636-c0de-5fb3c629890a"
      },
      "execution_count": 1,
      "outputs": [
        {
          "output_type": "stream",
          "name": "stdout",
          "text": [
            "spaCy version=3.7.5\n"
          ]
        }
      ]
    },
    {
      "cell_type": "code",
      "source": [
        "# downloading spaCy's medium/large model if needed (small is downloaded by default)\n",
        "# !python -m spacy download en_core_web_lg"
      ],
      "metadata": {
        "id": "mpnCF3cG2k-1"
      },
      "execution_count": 2,
      "outputs": []
    },
    {
      "cell_type": "code",
      "source": [
        "NLP = spacy.load(\"en_core_web_sm\")"
      ],
      "metadata": {
        "id": "WcHmwdNy2x2L"
      },
      "execution_count": 3,
      "outputs": []
    },
    {
      "cell_type": "code",
      "source": [
        "sent = \"This is a sample sentence to be parsed\"\n",
        "doc = NLP(sent)"
      ],
      "metadata": {
        "id": "kTOuiFO82zu8"
      },
      "execution_count": 4,
      "outputs": []
    },
    {
      "cell_type": "code",
      "source": [
        "spacy.displacy.render(doc, style='dep', jupyter=True, options={'fine_grained':True, 'compact':False})"
      ],
      "metadata": {
        "id": "KYHdSgac3IYs",
        "colab": {
          "base_uri": "https://localhost:8080/",
          "height": 508
        },
        "outputId": "1f788f47-4968-47c6-c714-e5fde5b48dcf"
      },
      "execution_count": 5,
      "outputs": [
        {
          "output_type": "display_data",
          "data": {
            "text/plain": [
              "<IPython.core.display.HTML object>"
            ],
            "text/html": [
              "<span class=\"tex2jax_ignore\"><svg xmlns=\"http://www.w3.org/2000/svg\" xmlns:xlink=\"http://www.w3.org/1999/xlink\" xml:lang=\"en\" id=\"dd2cde67f7ae41e8a0ec5b86675290b5-0\" class=\"displacy\" width=\"1450\" height=\"487.0\" direction=\"ltr\" style=\"max-width: none; height: 487.0px; color: #000000; background: #ffffff; font-family: Arial; direction: ltr\">\n",
              "<text class=\"displacy-token\" fill=\"currentColor\" text-anchor=\"middle\" y=\"397.0\">\n",
              "    <tspan class=\"displacy-word\" fill=\"currentColor\" x=\"50\">This</tspan>\n",
              "    <tspan class=\"displacy-tag\" dy=\"2em\" fill=\"currentColor\" x=\"50\">DT</tspan>\n",
              "</text>\n",
              "\n",
              "<text class=\"displacy-token\" fill=\"currentColor\" text-anchor=\"middle\" y=\"397.0\">\n",
              "    <tspan class=\"displacy-word\" fill=\"currentColor\" x=\"225\">is</tspan>\n",
              "    <tspan class=\"displacy-tag\" dy=\"2em\" fill=\"currentColor\" x=\"225\">VBZ</tspan>\n",
              "</text>\n",
              "\n",
              "<text class=\"displacy-token\" fill=\"currentColor\" text-anchor=\"middle\" y=\"397.0\">\n",
              "    <tspan class=\"displacy-word\" fill=\"currentColor\" x=\"400\">a</tspan>\n",
              "    <tspan class=\"displacy-tag\" dy=\"2em\" fill=\"currentColor\" x=\"400\">DT</tspan>\n",
              "</text>\n",
              "\n",
              "<text class=\"displacy-token\" fill=\"currentColor\" text-anchor=\"middle\" y=\"397.0\">\n",
              "    <tspan class=\"displacy-word\" fill=\"currentColor\" x=\"575\">sample</tspan>\n",
              "    <tspan class=\"displacy-tag\" dy=\"2em\" fill=\"currentColor\" x=\"575\">NN</tspan>\n",
              "</text>\n",
              "\n",
              "<text class=\"displacy-token\" fill=\"currentColor\" text-anchor=\"middle\" y=\"397.0\">\n",
              "    <tspan class=\"displacy-word\" fill=\"currentColor\" x=\"750\">sentence</tspan>\n",
              "    <tspan class=\"displacy-tag\" dy=\"2em\" fill=\"currentColor\" x=\"750\">NN</tspan>\n",
              "</text>\n",
              "\n",
              "<text class=\"displacy-token\" fill=\"currentColor\" text-anchor=\"middle\" y=\"397.0\">\n",
              "    <tspan class=\"displacy-word\" fill=\"currentColor\" x=\"925\">to</tspan>\n",
              "    <tspan class=\"displacy-tag\" dy=\"2em\" fill=\"currentColor\" x=\"925\">TO</tspan>\n",
              "</text>\n",
              "\n",
              "<text class=\"displacy-token\" fill=\"currentColor\" text-anchor=\"middle\" y=\"397.0\">\n",
              "    <tspan class=\"displacy-word\" fill=\"currentColor\" x=\"1100\">be</tspan>\n",
              "    <tspan class=\"displacy-tag\" dy=\"2em\" fill=\"currentColor\" x=\"1100\">VB</tspan>\n",
              "</text>\n",
              "\n",
              "<text class=\"displacy-token\" fill=\"currentColor\" text-anchor=\"middle\" y=\"397.0\">\n",
              "    <tspan class=\"displacy-word\" fill=\"currentColor\" x=\"1275\">parsed</tspan>\n",
              "    <tspan class=\"displacy-tag\" dy=\"2em\" fill=\"currentColor\" x=\"1275\">VBN</tspan>\n",
              "</text>\n",
              "\n",
              "<g class=\"displacy-arrow\">\n",
              "    <path class=\"displacy-arc\" id=\"arrow-dd2cde67f7ae41e8a0ec5b86675290b5-0-0\" stroke-width=\"2px\" d=\"M70,352.0 C70,264.5 210.0,264.5 210.0,352.0\" fill=\"none\" stroke=\"currentColor\"/>\n",
              "    <text dy=\"1.25em\" style=\"font-size: 0.8em; letter-spacing: 1px\">\n",
              "        <textPath xlink:href=\"#arrow-dd2cde67f7ae41e8a0ec5b86675290b5-0-0\" class=\"displacy-label\" startOffset=\"50%\" side=\"left\" fill=\"currentColor\" text-anchor=\"middle\">nsubj</textPath>\n",
              "    </text>\n",
              "    <path class=\"displacy-arrowhead\" d=\"M70,354.0 L62,342.0 78,342.0\" fill=\"currentColor\"/>\n",
              "</g>\n",
              "\n",
              "<g class=\"displacy-arrow\">\n",
              "    <path class=\"displacy-arc\" id=\"arrow-dd2cde67f7ae41e8a0ec5b86675290b5-0-1\" stroke-width=\"2px\" d=\"M420,352.0 C420,177.0 740.0,177.0 740.0,352.0\" fill=\"none\" stroke=\"currentColor\"/>\n",
              "    <text dy=\"1.25em\" style=\"font-size: 0.8em; letter-spacing: 1px\">\n",
              "        <textPath xlink:href=\"#arrow-dd2cde67f7ae41e8a0ec5b86675290b5-0-1\" class=\"displacy-label\" startOffset=\"50%\" side=\"left\" fill=\"currentColor\" text-anchor=\"middle\">det</textPath>\n",
              "    </text>\n",
              "    <path class=\"displacy-arrowhead\" d=\"M420,354.0 L412,342.0 428,342.0\" fill=\"currentColor\"/>\n",
              "</g>\n",
              "\n",
              "<g class=\"displacy-arrow\">\n",
              "    <path class=\"displacy-arc\" id=\"arrow-dd2cde67f7ae41e8a0ec5b86675290b5-0-2\" stroke-width=\"2px\" d=\"M595,352.0 C595,264.5 735.0,264.5 735.0,352.0\" fill=\"none\" stroke=\"currentColor\"/>\n",
              "    <text dy=\"1.25em\" style=\"font-size: 0.8em; letter-spacing: 1px\">\n",
              "        <textPath xlink:href=\"#arrow-dd2cde67f7ae41e8a0ec5b86675290b5-0-2\" class=\"displacy-label\" startOffset=\"50%\" side=\"left\" fill=\"currentColor\" text-anchor=\"middle\">compound</textPath>\n",
              "    </text>\n",
              "    <path class=\"displacy-arrowhead\" d=\"M595,354.0 L587,342.0 603,342.0\" fill=\"currentColor\"/>\n",
              "</g>\n",
              "\n",
              "<g class=\"displacy-arrow\">\n",
              "    <path class=\"displacy-arc\" id=\"arrow-dd2cde67f7ae41e8a0ec5b86675290b5-0-3\" stroke-width=\"2px\" d=\"M245,352.0 C245,89.5 745.0,89.5 745.0,352.0\" fill=\"none\" stroke=\"currentColor\"/>\n",
              "    <text dy=\"1.25em\" style=\"font-size: 0.8em; letter-spacing: 1px\">\n",
              "        <textPath xlink:href=\"#arrow-dd2cde67f7ae41e8a0ec5b86675290b5-0-3\" class=\"displacy-label\" startOffset=\"50%\" side=\"left\" fill=\"currentColor\" text-anchor=\"middle\">attr</textPath>\n",
              "    </text>\n",
              "    <path class=\"displacy-arrowhead\" d=\"M745.0,354.0 L753.0,342.0 737.0,342.0\" fill=\"currentColor\"/>\n",
              "</g>\n",
              "\n",
              "<g class=\"displacy-arrow\">\n",
              "    <path class=\"displacy-arc\" id=\"arrow-dd2cde67f7ae41e8a0ec5b86675290b5-0-4\" stroke-width=\"2px\" d=\"M945,352.0 C945,177.0 1265.0,177.0 1265.0,352.0\" fill=\"none\" stroke=\"currentColor\"/>\n",
              "    <text dy=\"1.25em\" style=\"font-size: 0.8em; letter-spacing: 1px\">\n",
              "        <textPath xlink:href=\"#arrow-dd2cde67f7ae41e8a0ec5b86675290b5-0-4\" class=\"displacy-label\" startOffset=\"50%\" side=\"left\" fill=\"currentColor\" text-anchor=\"middle\">aux</textPath>\n",
              "    </text>\n",
              "    <path class=\"displacy-arrowhead\" d=\"M945,354.0 L937,342.0 953,342.0\" fill=\"currentColor\"/>\n",
              "</g>\n",
              "\n",
              "<g class=\"displacy-arrow\">\n",
              "    <path class=\"displacy-arc\" id=\"arrow-dd2cde67f7ae41e8a0ec5b86675290b5-0-5\" stroke-width=\"2px\" d=\"M1120,352.0 C1120,264.5 1260.0,264.5 1260.0,352.0\" fill=\"none\" stroke=\"currentColor\"/>\n",
              "    <text dy=\"1.25em\" style=\"font-size: 0.8em; letter-spacing: 1px\">\n",
              "        <textPath xlink:href=\"#arrow-dd2cde67f7ae41e8a0ec5b86675290b5-0-5\" class=\"displacy-label\" startOffset=\"50%\" side=\"left\" fill=\"currentColor\" text-anchor=\"middle\">auxpass</textPath>\n",
              "    </text>\n",
              "    <path class=\"displacy-arrowhead\" d=\"M1120,354.0 L1112,342.0 1128,342.0\" fill=\"currentColor\"/>\n",
              "</g>\n",
              "\n",
              "<g class=\"displacy-arrow\">\n",
              "    <path class=\"displacy-arc\" id=\"arrow-dd2cde67f7ae41e8a0ec5b86675290b5-0-6\" stroke-width=\"2px\" d=\"M245,352.0 C245,2.0 1275.0,2.0 1275.0,352.0\" fill=\"none\" stroke=\"currentColor\"/>\n",
              "    <text dy=\"1.25em\" style=\"font-size: 0.8em; letter-spacing: 1px\">\n",
              "        <textPath xlink:href=\"#arrow-dd2cde67f7ae41e8a0ec5b86675290b5-0-6\" class=\"displacy-label\" startOffset=\"50%\" side=\"left\" fill=\"currentColor\" text-anchor=\"middle\">advcl</textPath>\n",
              "    </text>\n",
              "    <path class=\"displacy-arrowhead\" d=\"M1275.0,354.0 L1283.0,342.0 1267.0,342.0\" fill=\"currentColor\"/>\n",
              "</g>\n",
              "</svg></span>"
            ]
          },
          "metadata": {}
        }
      ]
    },
    {
      "cell_type": "code",
      "source": [
        "# if many sentences needs to be parsed, use pipe\n",
        "nlp_sm = spacy.load(\"en_core_web_sm\")\n",
        "docs_sm = list(NLP.pipe(1000 * [sent]))\n",
        "print(len(docs_sm))"
      ],
      "metadata": {
        "id": "HqdcpQpGukYZ",
        "colab": {
          "base_uri": "https://localhost:8080/"
        },
        "outputId": "87c1b4fe-a0a2-476b-9c29-85686617f0e9"
      },
      "execution_count": 6,
      "outputs": [
        {
          "output_type": "stream",
          "name": "stdout",
          "text": [
            "1000\n"
          ]
        }
      ]
    },
    {
      "cell_type": "markdown",
      "source": [
        "# CoreNLP parsing"
      ],
      "metadata": {
        "id": "4XbOrPEC3wj_"
      }
    },
    {
      "cell_type": "markdown",
      "source": [
        "CoreNLP will be used through [Stanza CoreNLP interface](https://github.com/stanfordnlp/stanza/blob/main/demo/Stanza_CoreNLP_Interface.ipynb). CoreNLP provides both constituency and dependency trees. For English, it is possible to directly get dependency trees with a dependency parser or indirectly obtain them by converting the constituency trees into dependecy trees."
      ],
      "metadata": {
        "id": "wSzX73d84XX0"
      }
    },
    {
      "cell_type": "code",
      "source": [
        "!pip install stanza"
      ],
      "metadata": {
        "id": "XOByjVMA4oDw",
        "colab": {
          "base_uri": "https://localhost:8080/"
        },
        "outputId": "c167c94e-802a-4880-da26-45e067c89ca7"
      },
      "execution_count": 7,
      "outputs": [
        {
          "output_type": "stream",
          "name": "stdout",
          "text": [
            "Collecting stanza\n",
            "  Downloading stanza-1.10.1-py3-none-any.whl.metadata (13 kB)\n",
            "Collecting emoji (from stanza)\n",
            "  Downloading emoji-2.14.1-py3-none-any.whl.metadata (5.7 kB)\n",
            "Requirement already satisfied: numpy in /usr/local/lib/python3.11/dist-packages (from stanza) (1.26.4)\n",
            "Requirement already satisfied: protobuf>=3.15.0 in /usr/local/lib/python3.11/dist-packages (from stanza) (4.25.5)\n",
            "Requirement already satisfied: requests in /usr/local/lib/python3.11/dist-packages (from stanza) (2.32.3)\n",
            "Requirement already satisfied: networkx in /usr/local/lib/python3.11/dist-packages (from stanza) (3.4.2)\n",
            "Requirement already satisfied: torch>=1.3.0 in /usr/local/lib/python3.11/dist-packages (from stanza) (2.5.1+cu121)\n",
            "Requirement already satisfied: tqdm in /usr/local/lib/python3.11/dist-packages (from stanza) (4.67.1)\n",
            "Requirement already satisfied: filelock in /usr/local/lib/python3.11/dist-packages (from torch>=1.3.0->stanza) (3.17.0)\n",
            "Requirement already satisfied: typing-extensions>=4.8.0 in /usr/local/lib/python3.11/dist-packages (from torch>=1.3.0->stanza) (4.12.2)\n",
            "Requirement already satisfied: jinja2 in /usr/local/lib/python3.11/dist-packages (from torch>=1.3.0->stanza) (3.1.5)\n",
            "Requirement already satisfied: fsspec in /usr/local/lib/python3.11/dist-packages (from torch>=1.3.0->stanza) (2024.10.0)\n",
            "Requirement already satisfied: nvidia-cuda-nvrtc-cu12==12.1.105 in /usr/local/lib/python3.11/dist-packages (from torch>=1.3.0->stanza) (12.1.105)\n",
            "Requirement already satisfied: nvidia-cuda-runtime-cu12==12.1.105 in /usr/local/lib/python3.11/dist-packages (from torch>=1.3.0->stanza) (12.1.105)\n",
            "Requirement already satisfied: nvidia-cuda-cupti-cu12==12.1.105 in /usr/local/lib/python3.11/dist-packages (from torch>=1.3.0->stanza) (12.1.105)\n",
            "Requirement already satisfied: nvidia-cudnn-cu12==9.1.0.70 in /usr/local/lib/python3.11/dist-packages (from torch>=1.3.0->stanza) (9.1.0.70)\n",
            "Requirement already satisfied: nvidia-cublas-cu12==12.1.3.1 in /usr/local/lib/python3.11/dist-packages (from torch>=1.3.0->stanza) (12.1.3.1)\n",
            "Requirement already satisfied: nvidia-cufft-cu12==11.0.2.54 in /usr/local/lib/python3.11/dist-packages (from torch>=1.3.0->stanza) (11.0.2.54)\n",
            "Requirement already satisfied: nvidia-curand-cu12==10.3.2.106 in /usr/local/lib/python3.11/dist-packages (from torch>=1.3.0->stanza) (10.3.2.106)\n",
            "Requirement already satisfied: nvidia-cusolver-cu12==11.4.5.107 in /usr/local/lib/python3.11/dist-packages (from torch>=1.3.0->stanza) (11.4.5.107)\n",
            "Requirement already satisfied: nvidia-cusparse-cu12==12.1.0.106 in /usr/local/lib/python3.11/dist-packages (from torch>=1.3.0->stanza) (12.1.0.106)\n",
            "Requirement already satisfied: nvidia-nccl-cu12==2.21.5 in /usr/local/lib/python3.11/dist-packages (from torch>=1.3.0->stanza) (2.21.5)\n",
            "Requirement already satisfied: nvidia-nvtx-cu12==12.1.105 in /usr/local/lib/python3.11/dist-packages (from torch>=1.3.0->stanza) (12.1.105)\n",
            "Requirement already satisfied: triton==3.1.0 in /usr/local/lib/python3.11/dist-packages (from torch>=1.3.0->stanza) (3.1.0)\n",
            "Requirement already satisfied: sympy==1.13.1 in /usr/local/lib/python3.11/dist-packages (from torch>=1.3.0->stanza) (1.13.1)\n",
            "Requirement already satisfied: nvidia-nvjitlink-cu12 in /usr/local/lib/python3.11/dist-packages (from nvidia-cusolver-cu12==11.4.5.107->torch>=1.3.0->stanza) (12.6.85)\n",
            "Requirement already satisfied: mpmath<1.4,>=1.1.0 in /usr/local/lib/python3.11/dist-packages (from sympy==1.13.1->torch>=1.3.0->stanza) (1.3.0)\n",
            "Requirement already satisfied: charset-normalizer<4,>=2 in /usr/local/lib/python3.11/dist-packages (from requests->stanza) (3.4.1)\n",
            "Requirement already satisfied: idna<4,>=2.5 in /usr/local/lib/python3.11/dist-packages (from requests->stanza) (3.10)\n",
            "Requirement already satisfied: urllib3<3,>=1.21.1 in /usr/local/lib/python3.11/dist-packages (from requests->stanza) (2.3.0)\n",
            "Requirement already satisfied: certifi>=2017.4.17 in /usr/local/lib/python3.11/dist-packages (from requests->stanza) (2024.12.14)\n",
            "Requirement already satisfied: MarkupSafe>=2.0 in /usr/local/lib/python3.11/dist-packages (from jinja2->torch>=1.3.0->stanza) (3.0.2)\n",
            "Downloading stanza-1.10.1-py3-none-any.whl (1.1 MB)\n",
            "\u001b[2K   \u001b[90m━━━━━━━━━━━━━━━━━━━━━━━━━━━━━━━━━━━━━━━━\u001b[0m \u001b[32m1.1/1.1 MB\u001b[0m \u001b[31m27.5 MB/s\u001b[0m eta \u001b[36m0:00:00\u001b[0m\n",
            "\u001b[?25hDownloading emoji-2.14.1-py3-none-any.whl (590 kB)\n",
            "\u001b[2K   \u001b[90m━━━━━━━━━━━━━━━━━━━━━━━━━━━━━━━━━━━━━━━━\u001b[0m \u001b[32m590.6/590.6 kB\u001b[0m \u001b[31m37.1 MB/s\u001b[0m eta \u001b[36m0:00:00\u001b[0m\n",
            "\u001b[?25hInstalling collected packages: emoji, stanza\n",
            "Successfully installed emoji-2.14.1 stanza-1.10.1\n"
          ]
        }
      ]
    },
    {
      "cell_type": "code",
      "source": [
        "import stanza\n",
        "import os\n",
        "# Download the Stanford CoreNLP package with Stanza's installation command\n",
        "# This'll take several minutes, depending on the network speed\n",
        "corenlp_dir = './corenlp'\n",
        "stanza.install_corenlp(dir=corenlp_dir)\n",
        "# Set the CORENLP_HOME environment variable to point to the installation location\n",
        "os.environ[\"CORENLP_HOME\"] = corenlp_dir\n",
        "# Import client module\n",
        "from stanza.server import CoreNLPClient\n",
        "# src: https://github.com/stanfordnlp/stanza/blob/main/demo/Stanza_CoreNLP_Interface.ipynb\n",
        "from nltk.tree import Tree"
      ],
      "metadata": {
        "id": "SFPFfBEL4g7n",
        "colab": {
          "base_uri": "https://localhost:8080/",
          "height": 101,
          "referenced_widgets": [
            "cf20afb41c3d472b8e55f8a8bc755543",
            "ee815e4a488a4ea1b89e13036d69b95b",
            "946b59395ddb419dbed1919c217d3a53",
            "13a9b329248b44ecb8721f2a9353366a",
            "751e52ecbeb74d7aa45741cdb4874fbc",
            "eaba9540da9b433080408de73f0fe340",
            "e44936f8b4d5480298483d0bf9976f85",
            "c5f26cd5b396415e8359fb2e85c4512c",
            "4c032b77bdbe4c58b16e26c02c50f766",
            "9032b4077ab84d0c966913fba92ff6a0",
            "7caf99b3702d47b0b3278b194ba6a807"
          ]
        },
        "outputId": "a6eab3dc-3b75-4301-9841-b9059b2f804b"
      },
      "execution_count": 8,
      "outputs": [
        {
          "output_type": "stream",
          "name": "stderr",
          "text": [
            "INFO:stanza:Installing CoreNLP package into ./corenlp\n"
          ]
        },
        {
          "output_type": "display_data",
          "data": {
            "text/plain": [
              "Downloading https://huggingface.co/stanfordnlp/CoreNLP/resolve/main/stanford-corenlp-latest.zip:   0%|        …"
            ],
            "application/vnd.jupyter.widget-view+json": {
              "version_major": 2,
              "version_minor": 0,
              "model_id": "cf20afb41c3d472b8e55f8a8bc755543"
            }
          },
          "metadata": {}
        },
        {
          "output_type": "stream",
          "name": "stderr",
          "text": [
            "INFO:stanza:Downloaded file to ./corenlp/corenlp.zip\n",
            "WARNING:stanza:For customized installation location, please set the `CORENLP_HOME` environment variable to the location of the installation. In Unix, this is done with `export CORENLP_HOME=./corenlp`.\n"
          ]
        }
      ]
    },
    {
      "cell_type": "markdown",
      "source": [
        "## Dependency parsing"
      ],
      "metadata": {
        "id": "oG2fAnOg4-70"
      }
    },
    {
      "cell_type": "code",
      "source": [
        "sents = [\"This is a sample sentence to be parsed\", \"A brown fox is jumping over the lazy dog\"]"
      ],
      "metadata": {
        "id": "64cufKMt5OL8"
      },
      "execution_count": 9,
      "outputs": []
    },
    {
      "cell_type": "code",
      "source": [
        "# Getting dependency trees from a dependency parser\n",
        "# https://stanfordnlp.github.io/CoreNLP/depparse.html\n",
        "with CoreNLPClient(annotators='tokenize,pos,depparse',\n",
        "                   memory='4G', endpoint='http://localhost:9021', be_quiet=True,\n",
        "                   output_format='json') as client:\n",
        "    core_dep_parses = [ client.annotate(s)['sentences'][0] for s in sents ]"
      ],
      "metadata": {
        "id": "MtH9IG39p4jO",
        "colab": {
          "base_uri": "https://localhost:8080/"
        },
        "outputId": "a873a015-987c-49a9-b8ac-078c0d4b6d99"
      },
      "execution_count": 10,
      "outputs": [
        {
          "output_type": "stream",
          "name": "stderr",
          "text": [
            "INFO:stanza:Writing properties to tmp file: corenlp_server-2b798af2da114245.props\n",
            "INFO:stanza:Starting server with command: java -Xmx4G -cp ./corenlp/* edu.stanford.nlp.pipeline.StanfordCoreNLPServer -port 9021 -timeout 60000 -threads 5 -maxCharLength 100000 -quiet True -serverProperties corenlp_server-2b798af2da114245.props -annotators tokenize,pos,depparse -preload -outputFormat json\n"
          ]
        }
      ]
    },
    {
      "cell_type": "markdown",
      "source": [
        "## Constituency parsing"
      ],
      "metadata": {
        "id": "Z41CZjP569Rp"
      }
    },
    {
      "cell_type": "code",
      "source": [
        "# Getting dependency trees from a constituency parser\n",
        "# takes 3-4min\n",
        "# https://stanfordnlp.github.io/CoreNLP/parse.html\n",
        "with CoreNLPClient(annotators='tokenize,pos,parse',\n",
        "                   memory='4G', endpoint='http://localhost:9030', be_quiet=True,\n",
        "                   output_format='json') as client:\n",
        "    core_con_parses = [ client.annotate(s)['sentences'][0] for s in sents ]"
      ],
      "metadata": {
        "id": "ttK7fSg4LFx5",
        "colab": {
          "base_uri": "https://localhost:8080/"
        },
        "outputId": "b1b9c938-02b5-4ecc-fe46-0f6ce9f9e24d"
      },
      "execution_count": 11,
      "outputs": [
        {
          "output_type": "stream",
          "name": "stderr",
          "text": [
            "INFO:stanza:Writing properties to tmp file: corenlp_server-05de0c1d3d244313.props\n",
            "INFO:stanza:Starting server with command: java -Xmx4G -cp ./corenlp/* edu.stanford.nlp.pipeline.StanfordCoreNLPServer -port 9030 -timeout 60000 -threads 5 -maxCharLength 100000 -quiet True -serverProperties corenlp_server-05de0c1d3d244313.props -annotators tokenize,pos,parse -preload -outputFormat json\n"
          ]
        }
      ]
    },
    {
      "cell_type": "code",
      "source": [
        "# Drawing CoreNLP constituency trees with NLTK's Tree object\n",
        "Tree.fromstring(core_con_parses[0]['parse']).pretty_print()"
      ],
      "metadata": {
        "id": "slfJfHDKoi98",
        "colab": {
          "base_uri": "https://localhost:8080/"
        },
        "outputId": "bfc698a7-c2e8-4081-eaa0-e749cb18e67f"
      },
      "execution_count": null,
      "outputs": [
        {
          "output_type": "stream",
          "name": "stdout",
          "text": [
            "     ROOT                                       \n",
            "      |                                          \n",
            "      S                                         \n",
            "  ____|____                                      \n",
            " |         VP                                   \n",
            " |     ____|____________                         \n",
            " |    |                 NP                      \n",
            " |    |     ____________|__________              \n",
            " |    |    |    |       |          S            \n",
            " |    |    |    |       |          |             \n",
            " |    |    |    |       |          VP           \n",
            " |    |    |    |       |       ___|___          \n",
            " |    |    |    |       |      |       VP       \n",
            " |    |    |    |       |      |    ___|____     \n",
            " NP   |    |    |       |      |   |        VP  \n",
            " |    |    |    |       |      |   |        |    \n",
            " DT  VBZ   DT   NN      NN     TO  VB      VBN  \n",
            " |    |    |    |       |      |   |        |    \n",
            "This  is   a  sample sentence  to  be     parsed\n",
            "\n"
          ]
        }
      ]
    },
    {
      "cell_type": "markdown",
      "source": [
        "# AMuSE word senses"
      ],
      "metadata": {
        "id": "nylSkAwH9kcN"
      }
    },
    {
      "cell_type": "markdown",
      "source": [
        "We use an API to predict word senses with the help of the multilingual word sense disambiguation system. For more details visit [here](http://nlp.uniroma1.it/amuse-wsd/about).  "
      ],
      "metadata": {
        "id": "HK2B89Es-pla"
      }
    },
    {
      "cell_type": "code",
      "source": [
        "import requests"
      ],
      "metadata": {
        "id": "0mr7HqaJ9qZd"
      },
      "execution_count": 12,
      "outputs": []
    },
    {
      "cell_type": "code",
      "source": [
        "headers = {'accept': 'application/json', 'Content-Type': 'application/json'}\n",
        "url = 'http://nlp.uniroma1.it/amuse-wsd/api/model'"
      ],
      "metadata": {
        "id": "85Xnmvkd9u9T"
      },
      "execution_count": 13,
      "outputs": []
    },
    {
      "cell_type": "code",
      "source": [
        "# disambiguation ENglish sentences\n",
        "input = [\n",
        "    {'text': \"This table is too long for this room\", \"lang\": \"EN\" },\n",
        "    {'text': \"The bank is wet\", \"lang\": \"EN\" }\n",
        "]"
      ],
      "metadata": {
        "id": "OY0Jxk-J9yj3"
      },
      "execution_count": 14,
      "outputs": []
    },
    {
      "cell_type": "code",
      "source": [
        "res = requests.post(url, json=input, headers=headers).json()"
      ],
      "metadata": {
        "id": "oZXlGFmJ-JWS"
      },
      "execution_count": 15,
      "outputs": []
    },
    {
      "cell_type": "code",
      "source": [
        "res"
      ],
      "metadata": {
        "id": "-W-MwHMN-R3m",
        "colab": {
          "base_uri": "https://localhost:8080/"
        },
        "outputId": "ebb89fdb-cb91-4bd8-e97b-a16a3dbb7662"
      },
      "execution_count": 16,
      "outputs": [
        {
          "output_type": "execute_result",
          "data": {
            "text/plain": [
              "[{'tokens': [{'index': 0,\n",
              "    'text': 'This',\n",
              "    'pos': 'DET',\n",
              "    'lemma': 'this',\n",
              "    'bnSynsetId': 'O',\n",
              "    'wnSynsetOffset': 'O',\n",
              "    'nltkSynset': 'O'},\n",
              "   {'index': 1,\n",
              "    'text': 'table',\n",
              "    'pos': 'NOUN',\n",
              "    'lemma': 'table',\n",
              "    'bnSynsetId': 'bn:00075813n',\n",
              "    'wnSynsetOffset': '4379243n',\n",
              "    'nltkSynset': 'table.n.02'},\n",
              "   {'index': 2,\n",
              "    'text': 'is',\n",
              "    'pos': 'VERB',\n",
              "    'lemma': 'be',\n",
              "    'bnSynsetId': 'bn:00083181v',\n",
              "    'wnSynsetOffset': '2604760v',\n",
              "    'nltkSynset': 'be.v.01'},\n",
              "   {'index': 3,\n",
              "    'text': 'too',\n",
              "    'pos': 'ADV',\n",
              "    'lemma': 'too',\n",
              "    'bnSynsetId': 'bn:00115274r',\n",
              "    'wnSynsetOffset': '47392r',\n",
              "    'nltkSynset': 'excessively.r.01'},\n",
              "   {'index': 4,\n",
              "    'text': 'long',\n",
              "    'pos': 'ADJ',\n",
              "    'lemma': 'long',\n",
              "    'bnSynsetId': 'bn:00106125a',\n",
              "    'wnSynsetOffset': '1433493a',\n",
              "    'nltkSynset': 'long.a.02'},\n",
              "   {'index': 5,\n",
              "    'text': 'for',\n",
              "    'pos': 'ADP',\n",
              "    'lemma': 'for',\n",
              "    'bnSynsetId': 'O',\n",
              "    'wnSynsetOffset': 'O',\n",
              "    'nltkSynset': 'O'},\n",
              "   {'index': 6,\n",
              "    'text': 'this',\n",
              "    'pos': 'DET',\n",
              "    'lemma': 'this',\n",
              "    'bnSynsetId': 'O',\n",
              "    'wnSynsetOffset': 'O',\n",
              "    'nltkSynset': 'O'},\n",
              "   {'index': 7,\n",
              "    'text': 'room',\n",
              "    'pos': 'NOUN',\n",
              "    'lemma': 'room',\n",
              "    'bnSynsetId': 'bn:00068233n',\n",
              "    'wnSynsetOffset': '4105893n',\n",
              "    'nltkSynset': 'room.n.01'}]},\n",
              " {'tokens': [{'index': 0,\n",
              "    'text': 'The',\n",
              "    'pos': 'DET',\n",
              "    'lemma': 'the',\n",
              "    'bnSynsetId': 'O',\n",
              "    'wnSynsetOffset': 'O',\n",
              "    'nltkSynset': 'O'},\n",
              "   {'index': 1,\n",
              "    'text': 'bank',\n",
              "    'pos': 'NOUN',\n",
              "    'lemma': 'bank',\n",
              "    'bnSynsetId': 'bn:00008364n',\n",
              "    'wnSynsetOffset': '8420278n',\n",
              "    'nltkSynset': 'depository_financial_institution.n.01'},\n",
              "   {'index': 2,\n",
              "    'text': 'is',\n",
              "    'pos': 'VERB',\n",
              "    'lemma': 'be',\n",
              "    'bnSynsetId': 'bn:00083181v',\n",
              "    'wnSynsetOffset': '2604760v',\n",
              "    'nltkSynset': 'be.v.01'},\n",
              "   {'index': 3,\n",
              "    'text': 'wet',\n",
              "    'pos': 'ADJ',\n",
              "    'lemma': 'wet',\n",
              "    'bnSynsetId': 'bn:00113820a',\n",
              "    'wnSynsetOffset': '2554752a',\n",
              "    'nltkSynset': 'wet.a.03'}]}]"
            ]
          },
          "metadata": {},
          "execution_count": 16
        }
      ]
    },
    {
      "cell_type": "markdown",
      "source": [
        "# Prover9\n",
        "\n",
        "The NLTK-native tableau prover for FOL cannot handle the equality predicate properly. That's why we will use Prover9, a proper theorem prover from FOL. Fortunately, it is nicely integrated in NLTK classes.        \n",
        "We need to download Prover9 as it is not by default available in recent NLTK anymore."
      ],
      "metadata": {
        "id": "_rsLi3ahsUlB"
      }
    },
    {
      "cell_type": "code",
      "source": [
        "import nltk\n",
        "print(nltk.__version__)"
      ],
      "metadata": {
        "id": "xnGJ1976wfJS",
        "colab": {
          "base_uri": "https://localhost:8080/"
        },
        "outputId": "164bd1fd-7b95-4799-ec19-ba467f6dc5da"
      },
      "execution_count": 17,
      "outputs": [
        {
          "output_type": "stream",
          "name": "stdout",
          "text": [
            "3.9.1\n"
          ]
        }
      ]
    },
    {
      "cell_type": "code",
      "source": [
        "%%bash\n",
        "prover9_file_name=\"p9m4-v05.tar.gz\"\n",
        "[[ ${prover9_file_name} =~ (.+)\\.tar\\.gz ]]\n",
        "prover9_folder_name=${BASH_REMATCH[1]}\n",
        "if [[ ! -d ${prover9_folder_name} ]]; then\n",
        "  curl -sL \"https://www.cs.unm.edu/~mccune/prover9/gui/$prover9_file_name\" -o ${prover9_file_name}\n",
        "  tar -xzf ${prover9_file_name}\n",
        "  rm -rf 'prover9'\n",
        "  mv ${prover9_folder_name} 'prover9'\n",
        "  rm ${prover9_file_name}\n",
        "fi"
      ],
      "metadata": {
        "id": "KNi_H8RgsUlC"
      },
      "execution_count": 18,
      "outputs": []
    },
    {
      "cell_type": "code",
      "source": [
        "prover9 = nltk.Prover9()\n",
        "prover9.config_prover9(\"/content/prover9/bin\")"
      ],
      "metadata": {
        "id": "2jpZNJSvvzR8"
      },
      "execution_count": 19,
      "outputs": []
    },
    {
      "cell_type": "code",
      "source": [
        "str2exp = nltk.sem.Expression.fromstring"
      ],
      "metadata": {
        "id": "cPqZmT-PwlZa"
      },
      "execution_count": 20,
      "outputs": []
    },
    {
      "cell_type": "code",
      "source": [
        "premises = [\"all x.(man(x) -> walks(x))\", \"not walks(Alex)\"]\n",
        "conclusion = \"some y. not man(y)\"\n",
        "prover9.prove(str2exp(conclusion), [ str2exp(p) for p in premises ])"
      ],
      "metadata": {
        "id": "iuoZR38HiGid",
        "colab": {
          "base_uri": "https://localhost:8080/"
        },
        "outputId": "9220d8be-406f-43d7-bf7e-9bb9e6520dfa"
      },
      "execution_count": 21,
      "outputs": [
        {
          "output_type": "execute_result",
          "data": {
            "text/plain": [
              "True"
            ]
          },
          "metadata": {},
          "execution_count": 21
        }
      ]
    },
    {
      "cell_type": "code",
      "source": [
        "conclusion = \"exists x. (L(x) & exists y. (E(y) & y = x)) -> exists x.(L(x) & E(x))\"\n",
        "prover9.prove(str2exp(conclusion), [])"
      ],
      "metadata": {
        "id": "Lg53aJK6xF_l",
        "colab": {
          "base_uri": "https://localhost:8080/"
        },
        "outputId": "2ee1112c-77a5-49e7-9f00-1769e54734f6"
      },
      "execution_count": 22,
      "outputs": [
        {
          "output_type": "execute_result",
          "data": {
            "text/plain": [
              "True"
            ]
          },
          "metadata": {},
          "execution_count": 22
        }
      ]
    },
    {
      "cell_type": "markdown",
      "source": [
        "# Decision trees on SNLI"
      ],
      "metadata": {
        "id": "qy4f-6yLlz63"
      }
    },
    {
      "cell_type": "markdown",
      "source": [
        "The code examples below show you how to use `snli_jsonl2dict` function to read data from SNLI files. The read data separates NLI problem info from sentence annotations because many sentences occur in many NLI problems and there is no need to reprocess the same sentences every time it is encountered in an NLI problem. This separation saves space and runtime, and it does make difference when you think of creating feature representations of 550K NLI problems.  \n",
        "\n",
        "You are also provided with `sen2features`, `problem2features`, and `probs2df` functions to show you how feature selection on a sentence level and a problem level can be done in a modular way. Note that the provided features are very simplistic ones. Try to replace them with more effective or reasonable ones. The final function demostrates how to visually verify/view feature representation of the problems (the latter is useful to verify whether your code is really doing what you think it should be doing)."
      ],
      "metadata": {
        "id": "imB1E9tFlz67"
      }
    },
    {
      "cell_type": "code",
      "source": [
        "from tqdm import tqdm\n",
        "import pandas as pd"
      ],
      "metadata": {
        "id": "bI6hXUuexfwS"
      },
      "execution_count": 23,
      "outputs": []
    },
    {
      "cell_type": "code",
      "source": [
        "# assigntools package is a course specific collection of useful tools\n",
        "!rm -fr assigntools # helps to rerun this cell witthout errors, if recloning needed\n",
        "! git clone https://github.com/kovvalsky/assigntools.git"
      ],
      "metadata": {
        "id": "aCZo1GENv1gC",
        "colab": {
          "base_uri": "https://localhost:8080/"
        },
        "outputId": "f1fa632a-3de1-4bfc-d574-128969804d74"
      },
      "execution_count": 24,
      "outputs": [
        {
          "output_type": "stream",
          "name": "stdout",
          "text": [
            "Cloning into 'assigntools'...\n",
            "remote: Enumerating objects: 255, done.\u001b[K\n",
            "remote: Counting objects: 100% (55/55), done.\u001b[K\n",
            "remote: Compressing objects: 100% (54/54), done.\u001b[K\n",
            "remote: Total 255 (delta 22), reused 0 (delta 0), pack-reused 200 (from 1)\u001b[K\n",
            "Receiving objects: 100% (255/255), 62.92 KiB | 4.49 MiB/s, done.\n",
            "Resolving deltas: 100% (124/124), done.\n"
          ]
        }
      ]
    },
    {
      "cell_type": "code",
      "source": [
        "from assigntools.LoLa.read_nli import snli_jsonl2dict, sen2anno_from_nli_problems\n",
        "from assigntools.LoLa.sen_analysis import spacy_process_sen2tok, display_doc_dep"
      ],
      "metadata": {
        "id": "xHNHqdmqvu1j"
      },
      "execution_count": 25,
      "outputs": []
    },
    {
      "cell_type": "markdown",
      "source": [
        "## Reading data"
      ],
      "metadata": {
        "id": "62OYO9JIPlgj"
      }
    },
    {
      "cell_type": "code",
      "source": [
        "from nltk.tree import Tree"
      ],
      "metadata": {
        "id": "LvOs4JA-3k17"
      },
      "execution_count": 26,
      "outputs": []
    },
    {
      "cell_type": "code",
      "source": [
        "# Get SNLI data on fly\n",
        "!wget https://nlp.stanford.edu/projects/snli/snli_1.0.zip\n",
        "!unzip snli_1.0.zip\n",
        "# !rm -r __MACOSX/ snli_1.0/*_test*"
      ],
      "metadata": {
        "id": "5lKU860ih-Gj",
        "colab": {
          "base_uri": "https://localhost:8080/"
        },
        "outputId": "7b6515b2-1061-48c8-9f03-be0ca3c5c1fa"
      },
      "execution_count": 27,
      "outputs": [
        {
          "output_type": "stream",
          "name": "stdout",
          "text": [
            "--2025-01-25 12:28:40--  https://nlp.stanford.edu/projects/snli/snli_1.0.zip\n",
            "Resolving nlp.stanford.edu (nlp.stanford.edu)... 171.64.67.140\n",
            "Connecting to nlp.stanford.edu (nlp.stanford.edu)|171.64.67.140|:443... connected.\n",
            "HTTP request sent, awaiting response... 200 OK\n",
            "Length: 94550081 (90M) [application/zip]\n",
            "Saving to: ‘snli_1.0.zip’\n",
            "\n",
            "snli_1.0.zip        100%[===================>]  90.17M  8.00MB/s    in 18s     \n",
            "\n",
            "2025-01-25 12:28:59 (5.05 MB/s) - ‘snli_1.0.zip’ saved [94550081/94550081]\n",
            "\n",
            "Archive:  snli_1.0.zip\n",
            "   creating: snli_1.0/\n",
            "  inflating: snli_1.0/.DS_Store      \n",
            "   creating: __MACOSX/\n",
            "   creating: __MACOSX/snli_1.0/\n",
            "  inflating: __MACOSX/snli_1.0/._.DS_Store  \n",
            " extracting: snli_1.0/Icon           \n",
            "  inflating: __MACOSX/snli_1.0/._Icon  \n",
            "  inflating: snli_1.0/README.txt     \n",
            "  inflating: __MACOSX/snli_1.0/._README.txt  \n",
            "  inflating: snli_1.0/snli_1.0_dev.jsonl  \n",
            "  inflating: snli_1.0/snli_1.0_dev.txt  \n",
            "  inflating: snli_1.0/snli_1.0_test.jsonl  \n",
            "  inflating: snli_1.0/snli_1.0_test.txt  \n",
            "  inflating: snli_1.0/snli_1.0_train.jsonl  \n",
            "  inflating: snli_1.0/snli_1.0_train.txt  \n",
            "  inflating: __MACOSX/._snli_1.0     \n"
          ]
        }
      ]
    },
    {
      "cell_type": "code",
      "source": [
        "# takes ~1min to read and pre-process data\n",
        "# By default it reads the problems that have a gold label.\n",
        "# SNLI is dict {part: {problem_id: problem_info}}\n",
        "# S2A is dict {sentence: sentence annotation dict}\n",
        "SNLI, S2A = snli_jsonl2dict('snli_1.0')"
      ],
      "metadata": {
        "id": "dK0AXvsgfltO",
        "colab": {
          "base_uri": "https://localhost:8080/"
        },
        "outputId": "6c5c4a23-b062-4b2d-8c37-6c6df896d324"
      },
      "execution_count": 28,
      "outputs": [
        {
          "output_type": "stream",
          "name": "stdout",
          "text": [
            "Found .json files for ['dev', 'train', 'test'] parts\n",
            "processing DEV:\t"
          ]
        },
        {
          "output_type": "stream",
          "name": "stderr",
          "text": [
            "10000it [00:01, 9670.83it/s]\n"
          ]
        },
        {
          "output_type": "stream",
          "name": "stdout",
          "text": [
            "9842 problems read\n",
            "0 problems have a wrong annotator label\n",
            "processing TRAIN:\t"
          ]
        },
        {
          "output_type": "stream",
          "name": "stderr",
          "text": [
            "550152it [00:49, 11114.56it/s]\n"
          ]
        },
        {
          "output_type": "stream",
          "name": "stdout",
          "text": [
            "549169 problems read\n",
            "198 problems have a wrong annotator label\n",
            "processing TEST:\t"
          ]
        },
        {
          "output_type": "stream",
          "name": "stderr",
          "text": [
            "10000it [00:00, 16237.18it/s]"
          ]
        },
        {
          "output_type": "stream",
          "name": "stdout",
          "text": [
            "9824 problems read\n",
            "0 problems have a wrong annotator label\n"
          ]
        },
        {
          "output_type": "stream",
          "name": "stderr",
          "text": [
            "\n"
          ]
        }
      ]
    },
    {
      "cell_type": "code",
      "source": [
        "# access a problem with its ID in the train part\n",
        "some_prob = SNLI['train']['4804607632.jpg#0r1e']\n",
        "display(some_prob) # you can use print but the data will be squeezed in a single line"
      ],
      "metadata": {
        "id": "SM8eR682Iu23",
        "colab": {
          "base_uri": "https://localhost:8080/",
          "height": 156
        },
        "outputId": "2190cb7d-50d4-4de1-d227-1c3c072b9a62"
      },
      "execution_count": 29,
      "outputs": [
        {
          "output_type": "display_data",
          "data": {
            "text/plain": [
              "{'g': 'neutral',\n",
              " 'pid': '4804607632.jpg#0r1e',\n",
              " 'cid': '4804607632.jpg#0',\n",
              " 'lnum': 5,\n",
              " 'lcnt': Counter({'entailment': 2, 'neutral': 3}),\n",
              " 'ltype': '230',\n",
              " 'p': 'An older man sits with his orange juice at a small table in a coffee shop while employees in bright colored shirts smile in the background.',\n",
              " 'h': 'An elderly man sits in a small shop.'}"
            ]
          },
          "metadata": {}
        }
      ]
    },
    {
      "cell_type": "code",
      "source": [
        "# The analysis/annotation of the hypothesis sentence\n",
        "# It includes tokenization, tree structures and pos tags.\n",
        "# Additionally, for each sentence you can find out in which\n",
        "# parts, problems, and role (premise or hypothesis) it occurs.\n",
        "# Check the key \"pids\" (problemIDs) for this info.\n",
        "print(f\"Sentence: {some_prob['h']}\")\n",
        "S2A[some_prob['h']]"
      ],
      "metadata": {
        "id": "vnnP33PJJRHp",
        "colab": {
          "base_uri": "https://localhost:8080/"
        },
        "outputId": "2af91d2f-183b-4bf7-8e2f-f77bf56e0e8b"
      },
      "execution_count": 30,
      "outputs": [
        {
          "output_type": "stream",
          "name": "stdout",
          "text": [
            "Sentence: An elderly man sits in a small shop.\n"
          ]
        },
        {
          "output_type": "execute_result",
          "data": {
            "text/plain": [
              "{'tree': '(ROOT (S (NP (DT An) (JJ elderly) (NN man)) (VP (VBZ sits) (PP (IN in) (NP (DT a) (JJ small) (NN shop)))) (. .)))',\n",
              " 'btree': '( ( An ( elderly man ) ) ( ( sits ( in ( a ( small shop ) ) ) ) . ) )',\n",
              " 'tok': ['An', 'elderly', 'man', 'sits', 'in', 'a', 'small', 'shop', '.'],\n",
              " 'pos': ['DT', 'JJ', 'NN', 'VBZ', 'IN', 'DT', 'JJ', 'NN', '.'],\n",
              " 'pids': {('train', '4804607632.jpg#0r1e', 'h')}}"
            ]
          },
          "metadata": {},
          "execution_count": 30
        }
      ]
    },
    {
      "cell_type": "code",
      "source": [
        "# It is a good idea to keep the problem annotations and sentence annotations separately\n",
        "# because many sentences occur in many NLI problems and you don't want to extract features\n",
        "# for the same sentence for each problem it occurs in.\n",
        "# For example the following sentence occurs many times in NLI problems\n",
        "len(S2A[\"A man is sleeping.\"]['pids'])"
      ],
      "metadata": {
        "id": "JPH1SudlFOBb",
        "colab": {
          "base_uri": "https://localhost:8080/"
        },
        "outputId": "3b2ec246-10d6-499f-d54c-fb5e01da3ad0"
      },
      "execution_count": 31,
      "outputs": [
        {
          "output_type": "execute_result",
          "data": {
            "text/plain": [
              "343"
            ]
          },
          "metadata": {},
          "execution_count": 31
        }
      ]
    },
    {
      "cell_type": "markdown",
      "source": [
        "### Displaying syntax trees"
      ],
      "metadata": {
        "id": "rQrkjDep4xma"
      }
    },
    {
      "cell_type": "code",
      "source": [
        "# we can read tree representations as NLTK Tree objects\n",
        "t = Tree.fromstring(S2A[some_prob['h']]['tree'])\n",
        "print(t)\n",
        "# better printing\n",
        "t.pretty_print()"
      ],
      "metadata": {
        "id": "f7LvFC6D3WZX",
        "colab": {
          "base_uri": "https://localhost:8080/"
        },
        "outputId": "c168c50a-ad09-4e96-9be5-105c8503904e"
      },
      "execution_count": 32,
      "outputs": [
        {
          "output_type": "stream",
          "name": "stdout",
          "text": [
            "(ROOT\n",
            "  (S\n",
            "    (NP (DT An) (JJ elderly) (NN man))\n",
            "    (VP (VBZ sits) (PP (IN in) (NP (DT a) (JJ small) (NN shop))))\n",
            "    (. .)))\n",
            "                     ROOT                       \n",
            "                      |                          \n",
            "                      S                         \n",
            "        ______________|_______________________   \n",
            "       |                   VP                 | \n",
            "       |          _________|___               |  \n",
            "       |         |             PP             | \n",
            "       |         |     ________|____          |  \n",
            "       NP        |    |             NP        | \n",
            "  _____|_____    |    |     ________|____     |  \n",
            " DT    JJ    NN VBZ   IN   DT       JJ   NN   . \n",
            " |     |     |   |    |    |        |    |    |  \n",
            " An elderly man sits  in   a      small shop  . \n",
            "\n"
          ]
        }
      ]
    },
    {
      "cell_type": "code",
      "source": [
        "# you need to have svgline installed to display tree objects\n",
        "! pip install svgling"
      ],
      "metadata": {
        "id": "_8kVznHZ4VXl",
        "colab": {
          "base_uri": "https://localhost:8080/"
        },
        "outputId": "c7368cc3-1358-4503-81c5-dd44c778416a"
      },
      "execution_count": 33,
      "outputs": [
        {
          "output_type": "stream",
          "name": "stdout",
          "text": [
            "Collecting svgling\n",
            "  Downloading svgling-0.5.0-py3-none-any.whl.metadata (7.4 kB)\n",
            "Collecting svgwrite (from svgling)\n",
            "  Downloading svgwrite-1.4.3-py3-none-any.whl.metadata (8.8 kB)\n",
            "Downloading svgling-0.5.0-py3-none-any.whl (31 kB)\n",
            "Downloading svgwrite-1.4.3-py3-none-any.whl (67 kB)\n",
            "\u001b[2K   \u001b[90m━━━━━━━━━━━━━━━━━━━━━━━━━━━━━━━━━━━━━━━━\u001b[0m \u001b[32m67.1/67.1 kB\u001b[0m \u001b[31m5.2 MB/s\u001b[0m eta \u001b[36m0:00:00\u001b[0m\n",
            "\u001b[?25hInstalling collected packages: svgwrite, svgling\n",
            "Successfully installed svgling-0.5.0 svgwrite-1.4.3\n"
          ]
        }
      ]
    },
    {
      "cell_type": "code",
      "source": [
        "# display tree\n",
        "t"
      ],
      "metadata": {
        "id": "TJnXUvyj4inJ",
        "colab": {
          "base_uri": "https://localhost:8080/",
          "height": 333
        },
        "outputId": "ed7f4698-18eb-4dac-b1ad-eb9466ee87b0"
      },
      "execution_count": 34,
      "outputs": [
        {
          "output_type": "execute_result",
          "data": {
            "text/plain": [
              "Tree('ROOT', [Tree('S', [Tree('NP', [Tree('DT', ['An']), Tree('JJ', ['elderly']), Tree('NN', ['man'])]), Tree('VP', [Tree('VBZ', ['sits']), Tree('PP', [Tree('IN', ['in']), Tree('NP', [Tree('DT', ['a']), Tree('JJ', ['small']), Tree('NN', ['shop'])])])]), Tree('.', ['.'])])])"
            ],
            "image/svg+xml": "<svg baseProfile=\"full\" height=\"312px\" preserveAspectRatio=\"xMidYMid meet\" style=\"font-family: times, serif; font-weight: normal; font-style: normal; font-size: 16px\" version=\"1.1\" viewBox=\"0,0,384.0,312.0\" width=\"384px\" xmlns=\"http://www.w3.org/2000/svg\" xmlns:ev=\"http://www.w3.org/2001/xml-events\" xmlns:xlink=\"http://www.w3.org/1999/xlink\"><defs /><svg width=\"100%\" x=\"0\" y=\"0px\"><defs /><text text-anchor=\"middle\" x=\"50%\" y=\"16px\">ROOT</text></svg><svg width=\"100%\" x=\"0%\" y=\"48px\"><defs /><svg width=\"100%\" x=\"0\" y=\"0px\"><defs /><text text-anchor=\"middle\" x=\"50%\" y=\"16px\">S</text></svg><svg width=\"37.5%\" x=\"0%\" y=\"48px\"><defs /><svg width=\"100%\" x=\"0\" y=\"0px\"><defs /><text text-anchor=\"middle\" x=\"50%\" y=\"16px\">NP</text></svg><svg width=\"22.2222%\" x=\"0%\" y=\"48px\"><defs /><svg width=\"100%\" x=\"0\" y=\"0px\"><defs /><text text-anchor=\"middle\" x=\"50%\" y=\"16px\">DT</text></svg><svg width=\"100%\" x=\"0%\" y=\"48px\"><defs /><svg width=\"100%\" x=\"0\" y=\"0px\"><defs /><text text-anchor=\"middle\" x=\"50%\" y=\"16px\">An</text></svg></svg><line stroke=\"black\" x1=\"50%\" x2=\"50%\" y1=\"20px\" y2=\"48px\" /></svg><line stroke=\"black\" x1=\"50%\" x2=\"11.1111%\" y1=\"20px\" y2=\"48px\" /><svg width=\"50%\" x=\"22.2222%\" y=\"48px\"><defs /><svg width=\"100%\" x=\"0\" y=\"0px\"><defs /><text text-anchor=\"middle\" x=\"50%\" y=\"16px\">JJ</text></svg><svg width=\"100%\" x=\"0%\" y=\"48px\"><defs /><svg width=\"100%\" x=\"0\" y=\"0px\"><defs /><text text-anchor=\"middle\" x=\"50%\" y=\"16px\">elderly</text></svg></svg><line stroke=\"black\" x1=\"50%\" x2=\"50%\" y1=\"20px\" y2=\"48px\" /></svg><line stroke=\"black\" x1=\"50%\" x2=\"47.2222%\" y1=\"20px\" y2=\"48px\" /><svg width=\"27.7778%\" x=\"72.2222%\" y=\"48px\"><defs /><svg width=\"100%\" x=\"0\" y=\"0px\"><defs /><text text-anchor=\"middle\" x=\"50%\" y=\"16px\">NN</text></svg><svg width=\"100%\" x=\"0%\" y=\"48px\"><defs /><svg width=\"100%\" x=\"0\" y=\"0px\"><defs /><text text-anchor=\"middle\" x=\"50%\" y=\"16px\">man</text></svg></svg><line stroke=\"black\" x1=\"50%\" x2=\"50%\" y1=\"20px\" y2=\"48px\" /></svg><line stroke=\"black\" x1=\"50%\" x2=\"86.1111%\" y1=\"20px\" y2=\"48px\" /></svg><line stroke=\"black\" x1=\"50%\" x2=\"18.75%\" y1=\"20px\" y2=\"48px\" /><svg width=\"56.25%\" x=\"37.5%\" y=\"48px\"><defs /><svg width=\"100%\" x=\"0\" y=\"0px\"><defs /><text text-anchor=\"middle\" x=\"50%\" y=\"16px\">VP</text></svg><svg width=\"22.2222%\" x=\"0%\" y=\"48px\"><defs /><svg width=\"100%\" x=\"0\" y=\"0px\"><defs /><text text-anchor=\"middle\" x=\"50%\" y=\"16px\">VBZ</text></svg><svg width=\"100%\" x=\"0%\" y=\"48px\"><defs /><svg width=\"100%\" x=\"0\" y=\"0px\"><defs /><text text-anchor=\"middle\" x=\"50%\" y=\"16px\">sits</text></svg></svg><line stroke=\"black\" x1=\"50%\" x2=\"50%\" y1=\"20px\" y2=\"48px\" /></svg><line stroke=\"black\" x1=\"50%\" x2=\"11.1111%\" y1=\"20px\" y2=\"48px\" /><svg width=\"77.7778%\" x=\"22.2222%\" y=\"48px\"><defs /><svg width=\"100%\" x=\"0\" y=\"0px\"><defs /><text text-anchor=\"middle\" x=\"50%\" y=\"16px\">PP</text></svg><svg width=\"19.0476%\" x=\"0%\" y=\"48px\"><defs /><svg width=\"100%\" x=\"0\" y=\"0px\"><defs /><text text-anchor=\"middle\" x=\"50%\" y=\"16px\">IN</text></svg><svg width=\"100%\" x=\"0%\" y=\"48px\"><defs /><svg width=\"100%\" x=\"0\" y=\"0px\"><defs /><text text-anchor=\"middle\" x=\"50%\" y=\"16px\">in</text></svg></svg><line stroke=\"black\" x1=\"50%\" x2=\"50%\" y1=\"20px\" y2=\"48px\" /></svg><line stroke=\"black\" x1=\"50%\" x2=\"9.52381%\" y1=\"20px\" y2=\"48px\" /><svg width=\"80.9524%\" x=\"19.0476%\" y=\"48px\"><defs /><svg width=\"100%\" x=\"0\" y=\"0px\"><defs /><text text-anchor=\"middle\" x=\"50%\" y=\"16px\">NP</text></svg><svg width=\"23.5294%\" x=\"0%\" y=\"48px\"><defs /><svg width=\"100%\" x=\"0\" y=\"0px\"><defs /><text text-anchor=\"middle\" x=\"50%\" y=\"16px\">DT</text></svg><svg width=\"100%\" x=\"0%\" y=\"48px\"><defs /><svg width=\"100%\" x=\"0\" y=\"0px\"><defs /><text text-anchor=\"middle\" x=\"50%\" y=\"16px\">a</text></svg></svg><line stroke=\"black\" x1=\"50%\" x2=\"50%\" y1=\"20px\" y2=\"48px\" /></svg><line stroke=\"black\" x1=\"50%\" x2=\"11.7647%\" y1=\"20px\" y2=\"48px\" /><svg width=\"41.1765%\" x=\"23.5294%\" y=\"48px\"><defs /><svg width=\"100%\" x=\"0\" y=\"0px\"><defs /><text text-anchor=\"middle\" x=\"50%\" y=\"16px\">JJ</text></svg><svg width=\"100%\" x=\"0%\" y=\"48px\"><defs /><svg width=\"100%\" x=\"0\" y=\"0px\"><defs /><text text-anchor=\"middle\" x=\"50%\" y=\"16px\">small</text></svg></svg><line stroke=\"black\" x1=\"50%\" x2=\"50%\" y1=\"20px\" y2=\"48px\" /></svg><line stroke=\"black\" x1=\"50%\" x2=\"44.1176%\" y1=\"20px\" y2=\"48px\" /><svg width=\"35.2941%\" x=\"64.7059%\" y=\"48px\"><defs /><svg width=\"100%\" x=\"0\" y=\"0px\"><defs /><text text-anchor=\"middle\" x=\"50%\" y=\"16px\">NN</text></svg><svg width=\"100%\" x=\"0%\" y=\"48px\"><defs /><svg width=\"100%\" x=\"0\" y=\"0px\"><defs /><text text-anchor=\"middle\" x=\"50%\" y=\"16px\">shop</text></svg></svg><line stroke=\"black\" x1=\"50%\" x2=\"50%\" y1=\"20px\" y2=\"48px\" /></svg><line stroke=\"black\" x1=\"50%\" x2=\"82.3529%\" y1=\"20px\" y2=\"48px\" /></svg><line stroke=\"black\" x1=\"50%\" x2=\"59.5238%\" y1=\"20px\" y2=\"48px\" /></svg><line stroke=\"black\" x1=\"50%\" x2=\"61.1111%\" y1=\"20px\" y2=\"48px\" /></svg><line stroke=\"black\" x1=\"50%\" x2=\"65.625%\" y1=\"20px\" y2=\"48px\" /><svg width=\"6.25%\" x=\"93.75%\" y=\"48px\"><defs /><svg width=\"100%\" x=\"0\" y=\"0px\"><defs /><text text-anchor=\"middle\" x=\"50%\" y=\"16px\">.</text></svg><svg width=\"100%\" x=\"0%\" y=\"48px\"><defs /><svg width=\"100%\" x=\"0\" y=\"0px\"><defs /><text text-anchor=\"middle\" x=\"50%\" y=\"16px\">.</text></svg></svg><line stroke=\"black\" x1=\"50%\" x2=\"50%\" y1=\"20px\" y2=\"48px\" /></svg><line stroke=\"black\" x1=\"50%\" x2=\"96.875%\" y1=\"20px\" y2=\"48px\" /></svg><line stroke=\"black\" x1=\"50%\" x2=\"50%\" y1=\"20px\" y2=\"48px\" /></svg>"
          },
          "metadata": {},
          "execution_count": 34
        }
      ]
    },
    {
      "cell_type": "markdown",
      "source": [
        "## Processing with spaCy [optional]"
      ],
      "metadata": {
        "id": "GrXD-I5z1L1c"
      }
    },
    {
      "cell_type": "markdown",
      "source": [
        "For more reasoning-relevant features, one can use [spaCy](https://spacy.io/) to get dependency parse trees for sentences. In addition to the dependency parsing, spaCy pipeline also does part-of-speech tagging (with general and fine-grained POS tags), named entity recognition, and lemmatization (details [here](https://spacy.io/usage/processing-pipelines)). For a quick intro to spaCy, have a look at the following section in the [spaCy tutorial](https://course.spacy.io/en/): sections 1 & 5 in [chapter 1](https://course.spacy.io/en/chapter1), and 4 & 8 in [chapter 2](https://course.spacy.io/en/chapter2).   \n",
        "Use attributes of spaCy's [Token objects](https://spacy.io/api/token).  \n",
        "After annotation, tokens come with two pos tags: fine-grained corresponds to [Penn Treebank pos tags](https://www.ling.upenn.edu/courses/Fall_2003/ling001/penn_treebank_pos.html) while coarse-grained to [Universal pos tags](https://universaldependencies.org/u/pos/). The dependency parse trees follow the [stanford style](https://downloads.cs.stanford.edu/nlp/software/dependencies_manual.pdf).  "
      ],
      "metadata": {
        "id": "ajg-s4mf1ZM9"
      }
    },
    {
      "cell_type": "code",
      "source": [
        "# downloading spaCy's large model\n",
        "# !python -m spacy download en_core_web_lg\n",
        "import spacy"
      ],
      "metadata": {
        "id": "W6bY0Emz3KO4"
      },
      "execution_count": 35,
      "outputs": []
    },
    {
      "cell_type": "code",
      "source": [
        "NLP = spacy.load(\"en_core_web_sm\")"
      ],
      "metadata": {
        "id": "t8R-birU3bJB"
      },
      "execution_count": 36,
      "outputs": []
    },
    {
      "cell_type": "code",
      "source": [
        "# SNLI train part contains 640K different sentences\n",
        "# First, processing all these sentences with spaCy and then using the analyses\n",
        "# for feature extraction is not feasible as the colab will run out of the memory\n",
        "# There are two options, either reduce the number of sentecnes by using subpart\n",
        "# of the training part, or process the sentences with spaCy in batches while\n",
        "# at the same time converting NLI problems into a set of feature-values\n",
        "# The former is simpler and this is how you can create new SNLI and S2A variables\n",
        "print(f\"Train contains {len(SNLI['train'])} problems\")\n",
        "print(f\"The number of different sentences in SNLI: {len(S2A)}\")\n",
        "# Let's decide that we take first 10K problems from TRAIN\n",
        "# (the label distribution should reflect the original distribution from the training data)\n",
        "SNLI['sub_train'] = { pid: SNLI['train'][pid] for pid in sorted(SNLI['train'])[:10000] }\n",
        "sub_S2A = sen2anno_from_nli_problems({**SNLI['train'], **SNLI['dev']}, S2A)\n",
        "print(f\"The number of different sentences in subTRAIN and DEV: {len(sub_S2A)}\")"
      ],
      "metadata": {
        "id": "T4J7GVJeWDCC",
        "colab": {
          "base_uri": "https://localhost:8080/"
        },
        "outputId": "6d555bca-2ca2-4c26-d1cd-01e8e4f22b04"
      },
      "execution_count": 37,
      "outputs": [
        {
          "output_type": "stream",
          "name": "stdout",
          "text": [
            "Train contains 549169 problems\n",
            "The number of different sentences in SNLI: 651357\n",
            "The number of different sentences in subTRAIN and DEV: 639908\n"
          ]
        }
      ]
    },
    {
      "cell_type": "code",
      "source": [
        "# process all sentecnes in DEV and subTRAIN with spaCy\n",
        "# Note thet the following function takes spaCy pipeline and sen->tokens dict\n",
        "# With the tokenization input, the pipeline is forced to use the same tokenization\n",
        "sen2Doc = spacy_process_sen2tok(NLP, { sen: anno['tok'] for sen, anno in sub_S2A.items() })"
      ],
      "metadata": {
        "id": "EHU6OGIlfinH",
        "colab": {
          "base_uri": "https://localhost:8080/"
        },
        "outputId": "be713131-2fbc-4014-b952-0cc9c2e0194a"
      },
      "execution_count": 38,
      "outputs": [
        {
          "output_type": "stream",
          "name": "stderr",
          "text": [
            "639908it [17:58, 593.53it/s]\n"
          ]
        }
      ]
    },
    {
      "cell_type": "code",
      "source": [
        "display_doc_dep(sen2Doc[\"A man is sleeping.\"])"
      ],
      "metadata": {
        "id": "QUiqLx3ul8Tf",
        "colab": {
          "base_uri": "https://localhost:8080/",
          "height": 308
        },
        "outputId": "42b88f34-f9c6-4c00-a4d4-744f823472f0"
      },
      "execution_count": 39,
      "outputs": [
        {
          "output_type": "display_data",
          "data": {
            "text/plain": [
              "<IPython.core.display.HTML object>"
            ],
            "text/html": [
              "<span class=\"tex2jax_ignore\"><svg xmlns=\"http://www.w3.org/2000/svg\" xmlns:xlink=\"http://www.w3.org/1999/xlink\" xml:lang=\"en\" id=\"b1d65b6a529f48909202742a12887e38-0\" class=\"displacy\" width=\"650\" height=\"287.0\" direction=\"ltr\" style=\"max-width: none; height: 287.0px; color: #000000; background: #ffffff; font-family: Arial; direction: ltr\">\n",
              "<text class=\"displacy-token\" fill=\"currentColor\" text-anchor=\"middle\" y=\"197.0\">\n",
              "    <tspan class=\"displacy-word\" fill=\"currentColor\" x=\"50\">A</tspan>\n",
              "    <tspan class=\"displacy-tag\" dy=\"2em\" fill=\"currentColor\" x=\"50\">DT</tspan>\n",
              "</text>\n",
              "\n",
              "<text class=\"displacy-token\" fill=\"currentColor\" text-anchor=\"middle\" y=\"197.0\">\n",
              "    <tspan class=\"displacy-word\" fill=\"currentColor\" x=\"200\">man</tspan>\n",
              "    <tspan class=\"displacy-tag\" dy=\"2em\" fill=\"currentColor\" x=\"200\">NN</tspan>\n",
              "</text>\n",
              "\n",
              "<text class=\"displacy-token\" fill=\"currentColor\" text-anchor=\"middle\" y=\"197.0\">\n",
              "    <tspan class=\"displacy-word\" fill=\"currentColor\" x=\"350\">is</tspan>\n",
              "    <tspan class=\"displacy-tag\" dy=\"2em\" fill=\"currentColor\" x=\"350\">VBZ</tspan>\n",
              "</text>\n",
              "\n",
              "<text class=\"displacy-token\" fill=\"currentColor\" text-anchor=\"middle\" y=\"197.0\">\n",
              "    <tspan class=\"displacy-word\" fill=\"currentColor\" x=\"500\">sleeping .</tspan>\n",
              "    <tspan class=\"displacy-tag\" dy=\"2em\" fill=\"currentColor\" x=\"500\">VBG</tspan>\n",
              "</text>\n",
              "\n",
              "<g class=\"displacy-arrow\">\n",
              "    <path class=\"displacy-arc\" id=\"arrow-b1d65b6a529f48909202742a12887e38-0-0\" stroke-width=\"2px\" d=\"M62,152.0 62,127.0 197.0,127.0 197.0,152.0\" fill=\"none\" stroke=\"currentColor\"/>\n",
              "    <text dy=\"1.25em\" style=\"font-size: 0.8em; letter-spacing: 1px\">\n",
              "        <textPath xlink:href=\"#arrow-b1d65b6a529f48909202742a12887e38-0-0\" class=\"displacy-label\" startOffset=\"50%\" side=\"left\" fill=\"currentColor\" text-anchor=\"middle\">det</textPath>\n",
              "    </text>\n",
              "    <path class=\"displacy-arrowhead\" d=\"M62,154.0 L58,146.0 66,146.0\" fill=\"currentColor\"/>\n",
              "</g>\n",
              "\n",
              "<g class=\"displacy-arrow\">\n",
              "    <path class=\"displacy-arc\" id=\"arrow-b1d65b6a529f48909202742a12887e38-0-1\" stroke-width=\"2px\" d=\"M212,152.0 212,102.0 500.0,102.0 500.0,152.0\" fill=\"none\" stroke=\"currentColor\"/>\n",
              "    <text dy=\"1.25em\" style=\"font-size: 0.8em; letter-spacing: 1px\">\n",
              "        <textPath xlink:href=\"#arrow-b1d65b6a529f48909202742a12887e38-0-1\" class=\"displacy-label\" startOffset=\"50%\" side=\"left\" fill=\"currentColor\" text-anchor=\"middle\">nsubj</textPath>\n",
              "    </text>\n",
              "    <path class=\"displacy-arrowhead\" d=\"M212,154.0 L208,146.0 216,146.0\" fill=\"currentColor\"/>\n",
              "</g>\n",
              "\n",
              "<g class=\"displacy-arrow\">\n",
              "    <path class=\"displacy-arc\" id=\"arrow-b1d65b6a529f48909202742a12887e38-0-2\" stroke-width=\"2px\" d=\"M362,152.0 362,127.0 497.0,127.0 497.0,152.0\" fill=\"none\" stroke=\"currentColor\"/>\n",
              "    <text dy=\"1.25em\" style=\"font-size: 0.8em; letter-spacing: 1px\">\n",
              "        <textPath xlink:href=\"#arrow-b1d65b6a529f48909202742a12887e38-0-2\" class=\"displacy-label\" startOffset=\"50%\" side=\"left\" fill=\"currentColor\" text-anchor=\"middle\">aux</textPath>\n",
              "    </text>\n",
              "    <path class=\"displacy-arrowhead\" d=\"M362,154.0 L358,146.0 366,146.0\" fill=\"currentColor\"/>\n",
              "</g>\n",
              "</svg></span>"
            ]
          },
          "metadata": {}
        }
      ]
    },
    {
      "cell_type": "markdown",
      "source": [
        "## Create features [demo]"
      ],
      "metadata": {
        "id": "ZiAkHr7-Pfnw"
      }
    },
    {
      "cell_type": "markdown",
      "source": [
        "This section shows one way how you could organize your code in a modular and hierarchical way: separate sentence-level features from problem/pair-level features where the latter uses the former. The conversion of the entire training data into feature-values is wrapped in a separate function so that it can work for train, dev and test parts in the similar way.  "
      ],
      "metadata": {
        "id": "wMZA1J4mH6kV"
      }
    },
    {
      "cell_type": "code",
      "source": [
        "# You can modify the function\n",
        "def sen2features(sen, anno):\n",
        "    '''\n",
        "    Takes a sentence and its annotation and returns a dictionary\n",
        "    of feature:value that characterizes the sentence\n",
        "    '''\n",
        "    feats = {}\n",
        "    # number of tokens\n",
        "    feats['tok_num'] = len(anno['tok'])\n",
        "    # number of negation words\n",
        "    feats['neg_num'] = has_negation(sen, anno)\n",
        "    # number of nouns\n",
        "    feats['noun_num'] = len([ t for t in anno['pos'] if t == \"NNS\" or t == \"NN\" ])\n",
        "\n",
        "    feats['plural_noun'] = len([ t for t in anno['pos'] if t == \"NNS\" or t == \"NNPS\" ])\n",
        "\n",
        "    return {**feats, **anno}"
      ],
      "metadata": {
        "id": "NjzKBnZ7UrRy"
      },
      "execution_count": 40,
      "outputs": []
    },
    {
      "cell_type": "code",
      "source": [
        "# shallow features\n",
        "def has_negation(sen, anno):\n",
        "    neg_words =  [\"no\" , \"n't\", \"not\", \"never\", \"none\", \"no one\"]\n",
        "    return len([ t.lower() in neg_words for t in anno['tok']])\n",
        "\n",
        "def giveaway_words(sen, anno):\n",
        "    giveaway_words = [\"sleep\", \"sleeping\", \"asleep\", \"slept\"]\n",
        "    giveaway = 1 if any([ t.lower() in giveaway_words for t in anno['tok']]) else 0\n",
        "    return giveaway\n",
        "\n"
      ],
      "metadata": {
        "id": "3G_rzLWKWZpe"
      },
      "execution_count": 41,
      "outputs": []
    },
    {
      "cell_type": "code",
      "source": [
        "# Add features to the sentence annotations\n",
        "s2af = { s: sen2features(s, a) for s, a in tqdm(sub_S2A.items()) }"
      ],
      "metadata": {
        "id": "vLIGFVRPXxFO",
        "colab": {
          "base_uri": "https://localhost:8080/"
        },
        "outputId": "f5890e0e-6c31-4b04-e16c-2db61b58f918"
      },
      "execution_count": 42,
      "outputs": [
        {
          "output_type": "stream",
          "name": "stderr",
          "text": [
            "100%|██████████| 639908/639908 [00:06<00:00, 93794.89it/s]\n"
          ]
        }
      ]
    },
    {
      "cell_type": "code",
      "source": [
        "# an example of a sentence with feature-added annotations\n",
        "s2af['The women is not on her phone.']"
      ],
      "metadata": {
        "id": "AMht8gs4YOII",
        "colab": {
          "base_uri": "https://localhost:8080/"
        },
        "outputId": "2a4ef169-9e75-46c9-d7cb-7a7e10b74139"
      },
      "execution_count": 43,
      "outputs": [
        {
          "output_type": "execute_result",
          "data": {
            "text/plain": [
              "{'tok_num': 8,\n",
              " 'neg_num': 1,\n",
              " 'noun_num': 2,\n",
              " 'plural_noun': 1,\n",
              " 'tree': '(ROOT (S (NP (DT The) (NNS women)) (VP (VBZ is) (RB not) (PP (IN on) (NP (PRP$ her) (NN phone)))) (. .)))',\n",
              " 'btree': '( ( The women ) ( ( ( is not ) ( on ( her phone ) ) ) . ) )',\n",
              " 'tok': ['The', 'women', 'is', 'not', 'on', 'her', 'phone', '.'],\n",
              " 'pos': ['DT', 'NNS', 'VBZ', 'RB', 'IN', 'PRP$', 'NN', '.'],\n",
              " 'pids': {('train', '109770830.jpg#0r5c', 'h')}}"
            ]
          },
          "metadata": {},
          "execution_count": 43
        }
      ]
    },
    {
      "cell_type": "code",
      "source": [
        "# You can modify the function\n",
        "def problem2features(sen1, anno1, sen2, anno2, sen_feats=set(['tok_num', 'neg_num', 'noun_num'])):\n",
        "    '''\n",
        "    Takes two sentences and their anotations (_features) and returns a dictionary of\n",
        "    feature:value that characterizes the sentence pair, i.e. feature is about both sentences\n",
        "    '''\n",
        "    features = {}\n",
        "    # define the sentence-based features that will be part of the problem features\n",
        "    sen_feats = set('neg_num')\n",
        "    sen1_feats = { f\"{k}1\": v for k, v in anno1.items() if k in sen_feats }\n",
        "    sen2_feats = { f\"{k}2\": v for k, v in anno2.items() if k in sen_feats }\n",
        "    # not very smart idea: putting single sentence-based features as pair features\n",
        "    features = {**sen1_feats, **sen2_feats} # merge two dicts\n",
        "\n",
        "    # pair-related features\n",
        "    # if only one of the sentences has a negation\n",
        "    neg_set = set([anno1['neg_num'], anno2['neg_num']])\n",
        "    features['neg_diff'] = 1 if (0 in neg_set and len(neg_set) > 1) else 0\n",
        "\n",
        "    features['token_diff'] = int(anno1['tok_num'] - anno2['tok_num'])/ max(anno1['tok_num'], anno2['tok_num'])\n",
        "\n",
        "    features['same_tokens'] = len(set(anno1['tok']).intersection(set(anno2['tok']))) / max(len(anno1['tok']), len(anno2['tok']))\n",
        "\n",
        "    features['same_pos_tags'] = len(set(anno1['pos']).intersection(set(anno2['pos'])))/ max(len(anno1['pos']), len(anno2['pos']))\n",
        "\n",
        "    features['giveaway'] = giveaway_words(sen2, anno2)\n",
        "\n",
        "    features['first_word_match'] = 1 if (anno1['tok'][0].lower() == anno2['tok'][0].lower()) else 0\n",
        "\n",
        "    features['last_word_match'] = 1 if (anno1['tok'][-1].lower() == anno2['tok'][-1].lower()) else 0\n",
        "\n",
        "    features['plural_noun_diff'] = int(anno1['plural_noun'] - anno2['plural_noun'])\n",
        "\n",
        "    noun_exist = 1 if ('NN' in anno1['pos'] and 'NN' in anno2['pos']) else 0\n",
        "\n",
        "    features['noun_match'] = 1 if noun_exist==1 and (anno1['pos'].index('NN')==anno2['pos'].index('NN')) else 0\n",
        "\n",
        "    pronoun_exist = 1 if ('PRP$' in anno1['pos'] and 'PRP$' in anno2['pos']) else 0\n",
        "\n",
        "    features['pronoun_match'] = 1 if pronoun_exist==1 and (anno1['tok'][anno1['pos'].index('PRP$')]==anno2['tok'][anno2['pos'].index('PRP$')]) else 0\n",
        "\n",
        "    numeric = 1 if ('CD' in anno1['pos'] and 'CD' in anno2['pos']) else 0 if ('CD' in anno1['pos'] or 'CD' in anno2['pos']) else -1\n",
        "\n",
        "    features['numeric_match'] = 1 if numeric==1 and (anno1['tok'][anno1['pos'].index('CD')]==anno2['tok'][anno2['pos'].index('CD')]) else 0\n",
        "\n",
        "    return features"
      ],
      "metadata": {
        "id": "fshUfLIdPsyO"
      },
      "execution_count": 92,
      "outputs": []
    },
    {
      "cell_type": "code",
      "source": [
        "# You can modify the function, but it might not be necessary as it is pretty general\n",
        "def problems2df(data_dict, sen2af):\n",
        "    '''\n",
        "    Read a dictionary of NLI problems {pid->prob} and\n",
        "    a dictionary of sentence annotations {sent->anno_feats}\n",
        "    and represent each problem as a set of feature-values in DatFrame.\n",
        "    DataFrame offers an easy way of viewing and manipulating data.\n",
        "    Separate DataFrames are created for labels, features, and sentence pairs\n",
        "    https://pandas.pydata.org/pandas-docs/stable/user_guide/10min.html\n",
        "    '''\n",
        "    dict_of_feats = { pid: problem2features(prob['p'], sen2af[prob['p']], prob['h'], sen2af[prob['h']])\n",
        "                      for pid, prob in tqdm(data_dict.items()) }\n",
        "    # Use  {key : list or dict} to create DataFrame\n",
        "    gold_labels = { pid:[prob['g']] for pid, prob in data_dict.items() }\n",
        "    # Don't use label annotations as features as this will be cheating :)\n",
        "    # Create DataFrame for sentence pairs for visualization\n",
        "    pair_df = { pid:[f\"{prob['p']} ??? {prob['h']}\"] for pid, prob in tqdm(data_dict.items()) }\n",
        "    # make each problem charactersistics as a row\n",
        "    feat_df = pd.DataFrame(dict_of_feats).transpose()\n",
        "    lab_df = pd.DataFrame(gold_labels).transpose()\n",
        "    pair_df = pd.DataFrame(pair_df).transpose()\n",
        "    # match the order in label, feature and pair farmes\n",
        "    lab_df.reindex(feat_df.index)\n",
        "    pair_df.reindex(feat_df.index)\n",
        "    return feat_df, lab_df, pair_df"
      ],
      "metadata": {
        "id": "W5BBptMfUGD-"
      },
      "execution_count": 93,
      "outputs": []
    },
    {
      "cell_type": "code",
      "source": [
        "feat_df, lab_df, pair_df = problems2df(SNLI['train'], s2af)"
      ],
      "metadata": {
        "id": "kUz1uh9WqFSp",
        "colab": {
          "base_uri": "https://localhost:8080/"
        },
        "outputId": "01bc1472-928d-471d-b0e4-2b2a6ee11d49"
      },
      "execution_count": 94,
      "outputs": [
        {
          "output_type": "stream",
          "name": "stderr",
          "text": [
            "100%|██████████| 549169/549169 [00:11<00:00, 49180.68it/s]\n",
            "100%|██████████| 549169/549169 [00:01<00:00, 513370.66it/s]\n"
          ]
        }
      ]
    },
    {
      "cell_type": "code",
      "source": [
        "# Let's put all three dataframes together for visualization\n",
        "# Press the magic wand icon after the frame appears\n",
        "pd.concat([lab_df, feat_df, pair_df], axis=1)"
      ],
      "metadata": {
        "id": "s1eQ5ZHkrZhb",
        "colab": {
          "base_uri": "https://localhost:8080/",
          "height": 493
        },
        "outputId": "2a83a162-7b8e-4d3e-fe9c-89b1e2b9dc03"
      },
      "execution_count": 95,
      "outputs": [
        {
          "output_type": "execute_result",
          "data": {
            "text/plain": [
              "                                 0  neg_diff  token_diff  same_tokens  \\\n",
              "3416050480.jpg#4r1n        neutral       0.0    0.166667     0.416667   \n",
              "3416050480.jpg#4r1c  contradiction       0.0    0.083333     0.333333   \n",
              "3416050480.jpg#4r1e     entailment       0.0    0.250000     0.500000   \n",
              "2267923837.jpg#2r1n        neutral       0.0    0.000000     0.333333   \n",
              "2267923837.jpg#2r1e     entailment       0.0    0.333333     0.000000   \n",
              "...                            ...       ...         ...          ...   \n",
              "2267923837.jpg#3r1c  contradiction       1.0   -0.333333     0.000000   \n",
              "2267923837.jpg#3r1n        neutral       0.0   -0.571429     0.214286   \n",
              "7979219683.jpg#2r1n        neutral       0.0    0.000000     0.666667   \n",
              "7979219683.jpg#2r1c  contradiction       0.0   -0.076923     0.461538   \n",
              "7979219683.jpg#2r1e     entailment       0.0   -0.142857     0.714286   \n",
              "\n",
              "                     same_pos_tags  giveaway  first_word_match  \\\n",
              "3416050480.jpg#4r1n       0.416667       0.0               1.0   \n",
              "3416050480.jpg#4r1c       0.416667       0.0               1.0   \n",
              "3416050480.jpg#4r1e       0.416667       0.0               1.0   \n",
              "2267923837.jpg#2r1n       0.333333       0.0               0.0   \n",
              "2267923837.jpg#2r1e       0.000000       0.0               0.0   \n",
              "...                            ...       ...               ...   \n",
              "2267923837.jpg#3r1c       0.222222       0.0               1.0   \n",
              "2267923837.jpg#3r1n       0.285714       0.0               1.0   \n",
              "7979219683.jpg#2r1n       0.500000       0.0               1.0   \n",
              "7979219683.jpg#2r1c       0.461538       0.0               1.0   \n",
              "7979219683.jpg#2r1e       0.428571       0.0               0.0   \n",
              "\n",
              "                     last_word_match  plural_noun_diff  noun_match  \\\n",
              "3416050480.jpg#4r1n              1.0               0.0         1.0   \n",
              "3416050480.jpg#4r1c              1.0               0.0         1.0   \n",
              "3416050480.jpg#4r1e              1.0               0.0         1.0   \n",
              "2267923837.jpg#2r1n              0.0              -1.0         0.0   \n",
              "2267923837.jpg#2r1e              0.0              -1.0         0.0   \n",
              "...                              ...               ...         ...   \n",
              "2267923837.jpg#3r1c              0.0              -1.0         0.0   \n",
              "2267923837.jpg#3r1n              1.0              -1.0         0.0   \n",
              "7979219683.jpg#2r1n              1.0               0.0         1.0   \n",
              "7979219683.jpg#2r1c              1.0               0.0         1.0   \n",
              "7979219683.jpg#2r1e              1.0               0.0         0.0   \n",
              "\n",
              "                     pronoun_match  numeric_match  \\\n",
              "3416050480.jpg#4r1n            0.0            0.0   \n",
              "3416050480.jpg#4r1c            0.0            0.0   \n",
              "3416050480.jpg#4r1e            0.0            0.0   \n",
              "2267923837.jpg#2r1n            0.0            0.0   \n",
              "2267923837.jpg#2r1e            0.0            0.0   \n",
              "...                            ...            ...   \n",
              "2267923837.jpg#3r1c            0.0            0.0   \n",
              "2267923837.jpg#3r1n            0.0            0.0   \n",
              "7979219683.jpg#2r1n            0.0            0.0   \n",
              "7979219683.jpg#2r1c            0.0            0.0   \n",
              "7979219683.jpg#2r1e            0.0            0.0   \n",
              "\n",
              "                                                                     0  \n",
              "3416050480.jpg#4r1n  A person on a horse jumps over a broken down a...  \n",
              "3416050480.jpg#4r1c  A person on a horse jumps over a broken down a...  \n",
              "3416050480.jpg#4r1e  A person on a horse jumps over a broken down a...  \n",
              "2267923837.jpg#2r1n  Children smiling and waving at camera ??? They...  \n",
              "2267923837.jpg#2r1e  Children smiling and waving at camera ??? Ther...  \n",
              "...                                                                ...  \n",
              "2267923837.jpg#3r1c  Four dirty and barefooted children. ??? four k...  \n",
              "2267923837.jpg#3r1n  Four dirty and barefooted children. ??? four h...  \n",
              "7979219683.jpg#2r1n  A man is surfing in a bodysuit in beautiful bl...  \n",
              "7979219683.jpg#2r1c  A man is surfing in a bodysuit in beautiful bl...  \n",
              "7979219683.jpg#2r1e  A man is surfing in a bodysuit in beautiful bl...  \n",
              "\n",
              "[549169 rows x 13 columns]"
            ],
            "text/html": [
              "\n",
              "  <div id=\"df-a176d306-5cef-49cc-8d85-5ddc319fa875\" class=\"colab-df-container\">\n",
              "    <div>\n",
              "<style scoped>\n",
              "    .dataframe tbody tr th:only-of-type {\n",
              "        vertical-align: middle;\n",
              "    }\n",
              "\n",
              "    .dataframe tbody tr th {\n",
              "        vertical-align: top;\n",
              "    }\n",
              "\n",
              "    .dataframe thead th {\n",
              "        text-align: right;\n",
              "    }\n",
              "</style>\n",
              "<table border=\"1\" class=\"dataframe\">\n",
              "  <thead>\n",
              "    <tr style=\"text-align: right;\">\n",
              "      <th></th>\n",
              "      <th>0</th>\n",
              "      <th>neg_diff</th>\n",
              "      <th>token_diff</th>\n",
              "      <th>same_tokens</th>\n",
              "      <th>same_pos_tags</th>\n",
              "      <th>giveaway</th>\n",
              "      <th>first_word_match</th>\n",
              "      <th>last_word_match</th>\n",
              "      <th>plural_noun_diff</th>\n",
              "      <th>noun_match</th>\n",
              "      <th>pronoun_match</th>\n",
              "      <th>numeric_match</th>\n",
              "      <th>0</th>\n",
              "    </tr>\n",
              "  </thead>\n",
              "  <tbody>\n",
              "    <tr>\n",
              "      <th>3416050480.jpg#4r1n</th>\n",
              "      <td>neutral</td>\n",
              "      <td>0.0</td>\n",
              "      <td>0.166667</td>\n",
              "      <td>0.416667</td>\n",
              "      <td>0.416667</td>\n",
              "      <td>0.0</td>\n",
              "      <td>1.0</td>\n",
              "      <td>1.0</td>\n",
              "      <td>0.0</td>\n",
              "      <td>1.0</td>\n",
              "      <td>0.0</td>\n",
              "      <td>0.0</td>\n",
              "      <td>A person on a horse jumps over a broken down a...</td>\n",
              "    </tr>\n",
              "    <tr>\n",
              "      <th>3416050480.jpg#4r1c</th>\n",
              "      <td>contradiction</td>\n",
              "      <td>0.0</td>\n",
              "      <td>0.083333</td>\n",
              "      <td>0.333333</td>\n",
              "      <td>0.416667</td>\n",
              "      <td>0.0</td>\n",
              "      <td>1.0</td>\n",
              "      <td>1.0</td>\n",
              "      <td>0.0</td>\n",
              "      <td>1.0</td>\n",
              "      <td>0.0</td>\n",
              "      <td>0.0</td>\n",
              "      <td>A person on a horse jumps over a broken down a...</td>\n",
              "    </tr>\n",
              "    <tr>\n",
              "      <th>3416050480.jpg#4r1e</th>\n",
              "      <td>entailment</td>\n",
              "      <td>0.0</td>\n",
              "      <td>0.250000</td>\n",
              "      <td>0.500000</td>\n",
              "      <td>0.416667</td>\n",
              "      <td>0.0</td>\n",
              "      <td>1.0</td>\n",
              "      <td>1.0</td>\n",
              "      <td>0.0</td>\n",
              "      <td>1.0</td>\n",
              "      <td>0.0</td>\n",
              "      <td>0.0</td>\n",
              "      <td>A person on a horse jumps over a broken down a...</td>\n",
              "    </tr>\n",
              "    <tr>\n",
              "      <th>2267923837.jpg#2r1n</th>\n",
              "      <td>neutral</td>\n",
              "      <td>0.0</td>\n",
              "      <td>0.000000</td>\n",
              "      <td>0.333333</td>\n",
              "      <td>0.333333</td>\n",
              "      <td>0.0</td>\n",
              "      <td>0.0</td>\n",
              "      <td>0.0</td>\n",
              "      <td>-1.0</td>\n",
              "      <td>0.0</td>\n",
              "      <td>0.0</td>\n",
              "      <td>0.0</td>\n",
              "      <td>Children smiling and waving at camera ??? They...</td>\n",
              "    </tr>\n",
              "    <tr>\n",
              "      <th>2267923837.jpg#2r1e</th>\n",
              "      <td>entailment</td>\n",
              "      <td>0.0</td>\n",
              "      <td>0.333333</td>\n",
              "      <td>0.000000</td>\n",
              "      <td>0.000000</td>\n",
              "      <td>0.0</td>\n",
              "      <td>0.0</td>\n",
              "      <td>0.0</td>\n",
              "      <td>-1.0</td>\n",
              "      <td>0.0</td>\n",
              "      <td>0.0</td>\n",
              "      <td>0.0</td>\n",
              "      <td>Children smiling and waving at camera ??? Ther...</td>\n",
              "    </tr>\n",
              "    <tr>\n",
              "      <th>...</th>\n",
              "      <td>...</td>\n",
              "      <td>...</td>\n",
              "      <td>...</td>\n",
              "      <td>...</td>\n",
              "      <td>...</td>\n",
              "      <td>...</td>\n",
              "      <td>...</td>\n",
              "      <td>...</td>\n",
              "      <td>...</td>\n",
              "      <td>...</td>\n",
              "      <td>...</td>\n",
              "      <td>...</td>\n",
              "      <td>...</td>\n",
              "    </tr>\n",
              "    <tr>\n",
              "      <th>2267923837.jpg#3r1c</th>\n",
              "      <td>contradiction</td>\n",
              "      <td>1.0</td>\n",
              "      <td>-0.333333</td>\n",
              "      <td>0.000000</td>\n",
              "      <td>0.222222</td>\n",
              "      <td>0.0</td>\n",
              "      <td>1.0</td>\n",
              "      <td>0.0</td>\n",
              "      <td>-1.0</td>\n",
              "      <td>0.0</td>\n",
              "      <td>0.0</td>\n",
              "      <td>0.0</td>\n",
              "      <td>Four dirty and barefooted children. ??? four k...</td>\n",
              "    </tr>\n",
              "    <tr>\n",
              "      <th>2267923837.jpg#3r1n</th>\n",
              "      <td>neutral</td>\n",
              "      <td>0.0</td>\n",
              "      <td>-0.571429</td>\n",
              "      <td>0.214286</td>\n",
              "      <td>0.285714</td>\n",
              "      <td>0.0</td>\n",
              "      <td>1.0</td>\n",
              "      <td>1.0</td>\n",
              "      <td>-1.0</td>\n",
              "      <td>0.0</td>\n",
              "      <td>0.0</td>\n",
              "      <td>0.0</td>\n",
              "      <td>Four dirty and barefooted children. ??? four h...</td>\n",
              "    </tr>\n",
              "    <tr>\n",
              "      <th>7979219683.jpg#2r1n</th>\n",
              "      <td>neutral</td>\n",
              "      <td>0.0</td>\n",
              "      <td>0.000000</td>\n",
              "      <td>0.666667</td>\n",
              "      <td>0.500000</td>\n",
              "      <td>0.0</td>\n",
              "      <td>1.0</td>\n",
              "      <td>1.0</td>\n",
              "      <td>0.0</td>\n",
              "      <td>1.0</td>\n",
              "      <td>0.0</td>\n",
              "      <td>0.0</td>\n",
              "      <td>A man is surfing in a bodysuit in beautiful bl...</td>\n",
              "    </tr>\n",
              "    <tr>\n",
              "      <th>7979219683.jpg#2r1c</th>\n",
              "      <td>contradiction</td>\n",
              "      <td>0.0</td>\n",
              "      <td>-0.076923</td>\n",
              "      <td>0.461538</td>\n",
              "      <td>0.461538</td>\n",
              "      <td>0.0</td>\n",
              "      <td>1.0</td>\n",
              "      <td>1.0</td>\n",
              "      <td>0.0</td>\n",
              "      <td>1.0</td>\n",
              "      <td>0.0</td>\n",
              "      <td>0.0</td>\n",
              "      <td>A man is surfing in a bodysuit in beautiful bl...</td>\n",
              "    </tr>\n",
              "    <tr>\n",
              "      <th>7979219683.jpg#2r1e</th>\n",
              "      <td>entailment</td>\n",
              "      <td>0.0</td>\n",
              "      <td>-0.142857</td>\n",
              "      <td>0.714286</td>\n",
              "      <td>0.428571</td>\n",
              "      <td>0.0</td>\n",
              "      <td>0.0</td>\n",
              "      <td>1.0</td>\n",
              "      <td>0.0</td>\n",
              "      <td>0.0</td>\n",
              "      <td>0.0</td>\n",
              "      <td>0.0</td>\n",
              "      <td>A man is surfing in a bodysuit in beautiful bl...</td>\n",
              "    </tr>\n",
              "  </tbody>\n",
              "</table>\n",
              "<p>549169 rows × 13 columns</p>\n",
              "</div>\n",
              "    <div class=\"colab-df-buttons\">\n",
              "\n",
              "  <div class=\"colab-df-container\">\n",
              "    <button class=\"colab-df-convert\" onclick=\"convertToInteractive('df-a176d306-5cef-49cc-8d85-5ddc319fa875')\"\n",
              "            title=\"Convert this dataframe to an interactive table.\"\n",
              "            style=\"display:none;\">\n",
              "\n",
              "  <svg xmlns=\"http://www.w3.org/2000/svg\" height=\"24px\" viewBox=\"0 -960 960 960\">\n",
              "    <path d=\"M120-120v-720h720v720H120Zm60-500h600v-160H180v160Zm220 220h160v-160H400v160Zm0 220h160v-160H400v160ZM180-400h160v-160H180v160Zm440 0h160v-160H620v160ZM180-180h160v-160H180v160Zm440 0h160v-160H620v160Z\"/>\n",
              "  </svg>\n",
              "    </button>\n",
              "\n",
              "  <style>\n",
              "    .colab-df-container {\n",
              "      display:flex;\n",
              "      gap: 12px;\n",
              "    }\n",
              "\n",
              "    .colab-df-convert {\n",
              "      background-color: #E8F0FE;\n",
              "      border: none;\n",
              "      border-radius: 50%;\n",
              "      cursor: pointer;\n",
              "      display: none;\n",
              "      fill: #1967D2;\n",
              "      height: 32px;\n",
              "      padding: 0 0 0 0;\n",
              "      width: 32px;\n",
              "    }\n",
              "\n",
              "    .colab-df-convert:hover {\n",
              "      background-color: #E2EBFA;\n",
              "      box-shadow: 0px 1px 2px rgba(60, 64, 67, 0.3), 0px 1px 3px 1px rgba(60, 64, 67, 0.15);\n",
              "      fill: #174EA6;\n",
              "    }\n",
              "\n",
              "    .colab-df-buttons div {\n",
              "      margin-bottom: 4px;\n",
              "    }\n",
              "\n",
              "    [theme=dark] .colab-df-convert {\n",
              "      background-color: #3B4455;\n",
              "      fill: #D2E3FC;\n",
              "    }\n",
              "\n",
              "    [theme=dark] .colab-df-convert:hover {\n",
              "      background-color: #434B5C;\n",
              "      box-shadow: 0px 1px 3px 1px rgba(0, 0, 0, 0.15);\n",
              "      filter: drop-shadow(0px 1px 2px rgba(0, 0, 0, 0.3));\n",
              "      fill: #FFFFFF;\n",
              "    }\n",
              "  </style>\n",
              "\n",
              "    <script>\n",
              "      const buttonEl =\n",
              "        document.querySelector('#df-a176d306-5cef-49cc-8d85-5ddc319fa875 button.colab-df-convert');\n",
              "      buttonEl.style.display =\n",
              "        google.colab.kernel.accessAllowed ? 'block' : 'none';\n",
              "\n",
              "      async function convertToInteractive(key) {\n",
              "        const element = document.querySelector('#df-a176d306-5cef-49cc-8d85-5ddc319fa875');\n",
              "        const dataTable =\n",
              "          await google.colab.kernel.invokeFunction('convertToInteractive',\n",
              "                                                    [key], {});\n",
              "        if (!dataTable) return;\n",
              "\n",
              "        const docLinkHtml = 'Like what you see? Visit the ' +\n",
              "          '<a target=\"_blank\" href=https://colab.research.google.com/notebooks/data_table.ipynb>data table notebook</a>'\n",
              "          + ' to learn more about interactive tables.';\n",
              "        element.innerHTML = '';\n",
              "        dataTable['output_type'] = 'display_data';\n",
              "        await google.colab.output.renderOutput(dataTable, element);\n",
              "        const docLink = document.createElement('div');\n",
              "        docLink.innerHTML = docLinkHtml;\n",
              "        element.appendChild(docLink);\n",
              "      }\n",
              "    </script>\n",
              "  </div>\n",
              "\n",
              "\n",
              "<div id=\"df-cee4b8e5-81c6-44a2-aa8b-834951cc50e5\">\n",
              "  <button class=\"colab-df-quickchart\" onclick=\"quickchart('df-cee4b8e5-81c6-44a2-aa8b-834951cc50e5')\"\n",
              "            title=\"Suggest charts\"\n",
              "            style=\"display:none;\">\n",
              "\n",
              "<svg xmlns=\"http://www.w3.org/2000/svg\" height=\"24px\"viewBox=\"0 0 24 24\"\n",
              "     width=\"24px\">\n",
              "    <g>\n",
              "        <path d=\"M19 3H5c-1.1 0-2 .9-2 2v14c0 1.1.9 2 2 2h14c1.1 0 2-.9 2-2V5c0-1.1-.9-2-2-2zM9 17H7v-7h2v7zm4 0h-2V7h2v10zm4 0h-2v-4h2v4z\"/>\n",
              "    </g>\n",
              "</svg>\n",
              "  </button>\n",
              "\n",
              "<style>\n",
              "  .colab-df-quickchart {\n",
              "      --bg-color: #E8F0FE;\n",
              "      --fill-color: #1967D2;\n",
              "      --hover-bg-color: #E2EBFA;\n",
              "      --hover-fill-color: #174EA6;\n",
              "      --disabled-fill-color: #AAA;\n",
              "      --disabled-bg-color: #DDD;\n",
              "  }\n",
              "\n",
              "  [theme=dark] .colab-df-quickchart {\n",
              "      --bg-color: #3B4455;\n",
              "      --fill-color: #D2E3FC;\n",
              "      --hover-bg-color: #434B5C;\n",
              "      --hover-fill-color: #FFFFFF;\n",
              "      --disabled-bg-color: #3B4455;\n",
              "      --disabled-fill-color: #666;\n",
              "  }\n",
              "\n",
              "  .colab-df-quickchart {\n",
              "    background-color: var(--bg-color);\n",
              "    border: none;\n",
              "    border-radius: 50%;\n",
              "    cursor: pointer;\n",
              "    display: none;\n",
              "    fill: var(--fill-color);\n",
              "    height: 32px;\n",
              "    padding: 0;\n",
              "    width: 32px;\n",
              "  }\n",
              "\n",
              "  .colab-df-quickchart:hover {\n",
              "    background-color: var(--hover-bg-color);\n",
              "    box-shadow: 0 1px 2px rgba(60, 64, 67, 0.3), 0 1px 3px 1px rgba(60, 64, 67, 0.15);\n",
              "    fill: var(--button-hover-fill-color);\n",
              "  }\n",
              "\n",
              "  .colab-df-quickchart-complete:disabled,\n",
              "  .colab-df-quickchart-complete:disabled:hover {\n",
              "    background-color: var(--disabled-bg-color);\n",
              "    fill: var(--disabled-fill-color);\n",
              "    box-shadow: none;\n",
              "  }\n",
              "\n",
              "  .colab-df-spinner {\n",
              "    border: 2px solid var(--fill-color);\n",
              "    border-color: transparent;\n",
              "    border-bottom-color: var(--fill-color);\n",
              "    animation:\n",
              "      spin 1s steps(1) infinite;\n",
              "  }\n",
              "\n",
              "  @keyframes spin {\n",
              "    0% {\n",
              "      border-color: transparent;\n",
              "      border-bottom-color: var(--fill-color);\n",
              "      border-left-color: var(--fill-color);\n",
              "    }\n",
              "    20% {\n",
              "      border-color: transparent;\n",
              "      border-left-color: var(--fill-color);\n",
              "      border-top-color: var(--fill-color);\n",
              "    }\n",
              "    30% {\n",
              "      border-color: transparent;\n",
              "      border-left-color: var(--fill-color);\n",
              "      border-top-color: var(--fill-color);\n",
              "      border-right-color: var(--fill-color);\n",
              "    }\n",
              "    40% {\n",
              "      border-color: transparent;\n",
              "      border-right-color: var(--fill-color);\n",
              "      border-top-color: var(--fill-color);\n",
              "    }\n",
              "    60% {\n",
              "      border-color: transparent;\n",
              "      border-right-color: var(--fill-color);\n",
              "    }\n",
              "    80% {\n",
              "      border-color: transparent;\n",
              "      border-right-color: var(--fill-color);\n",
              "      border-bottom-color: var(--fill-color);\n",
              "    }\n",
              "    90% {\n",
              "      border-color: transparent;\n",
              "      border-bottom-color: var(--fill-color);\n",
              "    }\n",
              "  }\n",
              "</style>\n",
              "\n",
              "  <script>\n",
              "    async function quickchart(key) {\n",
              "      const quickchartButtonEl =\n",
              "        document.querySelector('#' + key + ' button');\n",
              "      quickchartButtonEl.disabled = true;  // To prevent multiple clicks.\n",
              "      quickchartButtonEl.classList.add('colab-df-spinner');\n",
              "      try {\n",
              "        const charts = await google.colab.kernel.invokeFunction(\n",
              "            'suggestCharts', [key], {});\n",
              "      } catch (error) {\n",
              "        console.error('Error during call to suggestCharts:', error);\n",
              "      }\n",
              "      quickchartButtonEl.classList.remove('colab-df-spinner');\n",
              "      quickchartButtonEl.classList.add('colab-df-quickchart-complete');\n",
              "    }\n",
              "    (() => {\n",
              "      let quickchartButtonEl =\n",
              "        document.querySelector('#df-cee4b8e5-81c6-44a2-aa8b-834951cc50e5 button');\n",
              "      quickchartButtonEl.style.display =\n",
              "        google.colab.kernel.accessAllowed ? 'block' : 'none';\n",
              "    })();\n",
              "  </script>\n",
              "</div>\n",
              "\n",
              "    </div>\n",
              "  </div>\n"
            ],
            "application/vnd.google.colaboratory.intrinsic+json": {
              "type": "dataframe"
            }
          },
          "metadata": {},
          "execution_count": 95
        }
      ]
    },
    {
      "cell_type": "markdown",
      "source": [
        "## Training"
      ],
      "metadata": {
        "id": "8A91PFGE0t3Z"
      }
    },
    {
      "cell_type": "code",
      "source": [
        "# Just an example with decision trees\n",
        "from sklearn.tree import DecisionTreeClassifier as DTC\n",
        "from sklearn.tree import plot_tree\n",
        "import matplotlib.pyplot as plt\n",
        "\n",
        "# preparing data and converting it to feature-values\n",
        "s2af = { s: sen2features(s, a) for s, a in tqdm(sub_S2A.items()) }\n",
        "feat_df, lab_df, pair_df = problems2df(SNLI['train'], s2af)\n",
        "\n",
        "# initializing a DT classifier and training it\n",
        "DT = DTC(criterion=\"gini\", min_samples_split= 200, max_depth=20, random_state=0)\n",
        "default_DT = DT.fit(feat_df, lab_df)\n",
        "\n",
        "MODEL = {'cheater': default_DT}\n",
        "\n",
        "plt.figure(figsize=(30, 20))  # Adjust the figure size\n",
        "plot_tree(default_DT,\n",
        "          max_depth=3,\n",
        "          feature_names=feat_df.columns,\n",
        "          class_names=default_DT.classes_,\n",
        "          filled=True,\n",
        "          rounded=True,\n",
        ")\n",
        "plt.show()"
      ],
      "metadata": {
        "id": "TNIZX1_mDsP6",
        "colab": {
          "base_uri": "https://localhost:8080/",
          "height": 1000
        },
        "outputId": "59956e9a-cca6-4c37-8b8c-5ca951fab246"
      },
      "execution_count": 96,
      "outputs": [
        {
          "output_type": "stream",
          "name": "stderr",
          "text": [
            "100%|██████████| 639908/639908 [00:03<00:00, 163472.88it/s]\n",
            "100%|██████████| 549169/549169 [00:10<00:00, 50466.67it/s]\n",
            "100%|██████████| 549169/549169 [00:00<00:00, 549811.45it/s]\n"
          ]
        },
        {
          "output_type": "display_data",
          "data": {
            "text/plain": [
              "<Figure size 3000x2000 with 1 Axes>"
            ],
            "image/png": "[encoded data removed]"
          },
          "metadata": {}
        }
      ]
    },
    {
      "cell_type": "markdown",
      "source": [
        "## Evaluation"
      ],
      "metadata": {
        "id": "0rzwpL8I0yW1"
      }
    },
    {
      "cell_type": "code",
      "source": [
        "\n",
        "def evaluate(model, dataset, sen2anno):\n",
        "    \"\"\"\n",
        "    model - a classifier to predict NLI classes\n",
        "    dataset and sem2anno are the similar to the output of snli_jsonl2dict\n",
        "    dataset - a dict of nli problems: keys are problem ids and values problem descriptions\n",
        "    sen2anno - a dict of sentence annotations from SNLI: keys are sentences and values its tree, pos tag and tokenozation.\n",
        "    The function converts problems in dataset into set of feature-values (sen2anno can be used reprocess each sentence once)\n",
        "    and predicts the inference classes of the problems.\n",
        "    It can use spacy model \"NLP\" on-fly to get features based on its analyses.\n",
        "    Returns a list of predictions and a list of gold values\n",
        "    \"\"\"\n",
        "\n",
        "    # a sample code wich is adapted to the previous code about decision trees\n",
        "    s2af = { s: sen2features(s, a) for s, a in tqdm(sen2anno.items()) }\n",
        "    feat_df, lab_df, pair_df = problems2df(dataset, s2af)\n",
        "\n",
        "    pred_list = model.predict(feat_df)\n",
        "    return pred_list.tolist(), lab_df.values.squeeze().tolist()"
      ],
      "metadata": {
        "id": "oQTcbobJqjp5"
      },
      "execution_count": 97,
      "outputs": []
    },
    {
      "cell_type": "code",
      "source": [
        "# TEST\n",
        "from nltk.metrics.scores import accuracy as Accuracy\n",
        "from nltk.metrics import ConfusionMatrix\n",
        "\n",
        "S2A_dev = sen2anno_from_nli_problems(SNLI['dev'], S2A)\n",
        "# The code should also work for 'test' part\n",
        "\n",
        "for name in MODEL:\n",
        "    pred, gold = evaluate(MODEL[name], SNLI['dev'], S2A_dev)\n",
        "    print(f\"{name:=^80}\")\n",
        "    print(ConfusionMatrix(gold, pred))\n",
        "    print(f\"Accuracy = {Accuracy(gold, pred)}\")\n",
        "    print(f\"{'':=^80}\")"
      ],
      "metadata": {
        "id": "izU3bUm6tHSh",
        "colab": {
          "base_uri": "https://localhost:8080/"
        },
        "outputId": "58c5d214-adbc-4147-e438-861c54a6a599"
      },
      "execution_count": 98,
      "outputs": [
        {
          "output_type": "stream",
          "name": "stderr",
          "text": [
            "100%|██████████| 12982/12982 [00:00<00:00, 131653.54it/s]\n",
            "100%|██████████| 9842/9842 [00:00<00:00, 46936.09it/s]\n",
            "100%|██████████| 9842/9842 [00:00<00:00, 350725.06it/s]\n"
          ]
        },
        {
          "output_type": "stream",
          "name": "stdout",
          "text": [
            "====================================cheater=====================================\n",
            "              |    c           |\n",
            "              |    o           |\n",
            "              |    n           |\n",
            "              |    t    e      |\n",
            "              |    r    n      |\n",
            "              |    a    t      |\n",
            "              |    d    a    n |\n",
            "              |    i    i    e |\n",
            "              |    c    l    u |\n",
            "              |    t    m    t |\n",
            "              |    i    e    r |\n",
            "              |    o    n    a |\n",
            "              |    n    t    l |\n",
            "--------------+----------------+\n",
            "contradiction |<1657> 748  873 |\n",
            "   entailment |  716<1982> 631 |\n",
            "      neutral | 1157  737<1341>|\n",
            "--------------+----------------+\n",
            "(row = reference; col = test)\n",
            "\n",
            "Accuracy = 0.5059947165210323\n",
            "================================================================================\n"
          ]
        }
      ]
    },
    {
      "cell_type": "code",
      "source": [],
      "metadata": {
        "id": "QVi2QespFRAv"
      },
      "execution_count": null,
      "outputs": []
    }
  ]
}